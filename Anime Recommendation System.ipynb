{
  "nbformat": 4,
  "nbformat_minor": 0,
  "metadata": {
    "kernelspec": {
      "display_name": "Python 3",
      "language": "python",
      "name": "python3"
    },
    "language_info": {
      "codemirror_mode": {
        "name": "ipython",
        "version": 3
      },
      "file_extension": ".py",
      "mimetype": "text/x-python",
      "name": "python",
      "nbconvert_exporter": "python",
      "pygments_lexer": "ipython3",
      "version": "3.7.6"
    },
    "colab": {
      "name": "Recommendation System",
      "provenance": [],
      "collapsed_sections": [
        "X2apMMvUwazX"
      ]
    }
  },
  "cells": [
    {
      "cell_type": "code",
      "metadata": {
        "id": "aa7FKzfOwazK"
      },
      "source": [
        "\n",
        "#importing the libraries\n",
        "import pandas as pd\n",
        "from math import sqrt\n",
        "import numpy as np\n",
        "import matplotlib.pyplot as plt\n",
        "%matplotlib inline"
      ],
      "execution_count": null,
      "outputs": []
    },
    {
      "cell_type": "code",
      "metadata": {
        "id": "QcpMMwpkwazQ"
      },
      "source": [
        "anime_df = pd.read_csv('/content/anime.csv')"
      ],
      "execution_count": null,
      "outputs": []
    },
    {
      "cell_type": "code",
      "metadata": {
        "colab": {
          "base_uri": "https://localhost:8080/",
          "height": 195
        },
        "id": "AVEblYN6wazR",
        "outputId": "7399214b-7f4b-459c-94c6-e17cc919ad70"
      },
      "source": [
        "anime_df.head()"
      ],
      "execution_count": null,
      "outputs": [
        {
          "output_type": "execute_result",
          "data": {
            "text/html": [
              "<div>\n",
              "<style scoped>\n",
              "    .dataframe tbody tr th:only-of-type {\n",
              "        vertical-align: middle;\n",
              "    }\n",
              "\n",
              "    .dataframe tbody tr th {\n",
              "        vertical-align: top;\n",
              "    }\n",
              "\n",
              "    .dataframe thead th {\n",
              "        text-align: right;\n",
              "    }\n",
              "</style>\n",
              "<table border=\"1\" class=\"dataframe\">\n",
              "  <thead>\n",
              "    <tr style=\"text-align: right;\">\n",
              "      <th></th>\n",
              "      <th>anime_id</th>\n",
              "      <th>name</th>\n",
              "      <th>genre</th>\n",
              "      <th>type</th>\n",
              "      <th>episodes</th>\n",
              "      <th>rating</th>\n",
              "      <th>members</th>\n",
              "    </tr>\n",
              "  </thead>\n",
              "  <tbody>\n",
              "    <tr>\n",
              "      <th>0</th>\n",
              "      <td>32281</td>\n",
              "      <td>Kimi no Na wa.</td>\n",
              "      <td>Drama, Romance, School, Supernatural</td>\n",
              "      <td>Movie</td>\n",
              "      <td>1</td>\n",
              "      <td>9.37</td>\n",
              "      <td>200630</td>\n",
              "    </tr>\n",
              "    <tr>\n",
              "      <th>1</th>\n",
              "      <td>5114</td>\n",
              "      <td>Fullmetal Alchemist: Brotherhood</td>\n",
              "      <td>Action, Adventure, Drama, Fantasy, Magic, Mili...</td>\n",
              "      <td>TV</td>\n",
              "      <td>64</td>\n",
              "      <td>9.26</td>\n",
              "      <td>793665</td>\n",
              "    </tr>\n",
              "    <tr>\n",
              "      <th>2</th>\n",
              "      <td>28977</td>\n",
              "      <td>Gintama°</td>\n",
              "      <td>Action, Comedy, Historical, Parody, Samurai, S...</td>\n",
              "      <td>TV</td>\n",
              "      <td>51</td>\n",
              "      <td>9.25</td>\n",
              "      <td>114262</td>\n",
              "    </tr>\n",
              "    <tr>\n",
              "      <th>3</th>\n",
              "      <td>9253</td>\n",
              "      <td>Steins;Gate</td>\n",
              "      <td>Sci-Fi, Thriller</td>\n",
              "      <td>TV</td>\n",
              "      <td>24</td>\n",
              "      <td>9.17</td>\n",
              "      <td>673572</td>\n",
              "    </tr>\n",
              "    <tr>\n",
              "      <th>4</th>\n",
              "      <td>9969</td>\n",
              "      <td>Gintama&amp;#039;</td>\n",
              "      <td>Action, Comedy, Historical, Parody, Samurai, S...</td>\n",
              "      <td>TV</td>\n",
              "      <td>51</td>\n",
              "      <td>9.16</td>\n",
              "      <td>151266</td>\n",
              "    </tr>\n",
              "  </tbody>\n",
              "</table>\n",
              "</div>"
            ],
            "text/plain": [
              "   anime_id                              name  ... rating members\n",
              "0     32281                    Kimi no Na wa.  ...   9.37  200630\n",
              "1      5114  Fullmetal Alchemist: Brotherhood  ...   9.26  793665\n",
              "2     28977                          Gintama°  ...   9.25  114262\n",
              "3      9253                       Steins;Gate  ...   9.17  673572\n",
              "4      9969                     Gintama&#039;  ...   9.16  151266\n",
              "\n",
              "[5 rows x 7 columns]"
            ]
          },
          "metadata": {
            "tags": []
          },
          "execution_count": 3
        }
      ]
    },
    {
      "cell_type": "code",
      "metadata": {
        "colab": {
          "base_uri": "https://localhost:8080/"
        },
        "id": "V1UTPtnywazS",
        "outputId": "1f0bd6ad-a9af-4b24-ff26-7b64b74a241d"
      },
      "source": [
        "anime_df.shape"
      ],
      "execution_count": null,
      "outputs": [
        {
          "output_type": "execute_result",
          "data": {
            "text/plain": [
              "(12294, 7)"
            ]
          },
          "metadata": {
            "tags": []
          },
          "execution_count": 4
        }
      ]
    },
    {
      "cell_type": "code",
      "metadata": {
        "id": "bXDDjBPHwazS"
      },
      "source": [
        "anime_df = anime_df.drop(['genre','type','episodes','members'], axis=1)"
      ],
      "execution_count": null,
      "outputs": []
    },
    {
      "cell_type": "code",
      "metadata": {
        "colab": {
          "base_uri": "https://localhost:8080/",
          "height": 195
        },
        "id": "MEjTCqtEwazS",
        "outputId": "3f0cd63f-8b4a-4545-8fef-e487ef610e68"
      },
      "source": [
        "anime_df.head()"
      ],
      "execution_count": null,
      "outputs": [
        {
          "output_type": "execute_result",
          "data": {
            "text/html": [
              "<div>\n",
              "<style scoped>\n",
              "    .dataframe tbody tr th:only-of-type {\n",
              "        vertical-align: middle;\n",
              "    }\n",
              "\n",
              "    .dataframe tbody tr th {\n",
              "        vertical-align: top;\n",
              "    }\n",
              "\n",
              "    .dataframe thead th {\n",
              "        text-align: right;\n",
              "    }\n",
              "</style>\n",
              "<table border=\"1\" class=\"dataframe\">\n",
              "  <thead>\n",
              "    <tr style=\"text-align: right;\">\n",
              "      <th></th>\n",
              "      <th>anime_id</th>\n",
              "      <th>name</th>\n",
              "      <th>rating</th>\n",
              "    </tr>\n",
              "  </thead>\n",
              "  <tbody>\n",
              "    <tr>\n",
              "      <th>0</th>\n",
              "      <td>32281</td>\n",
              "      <td>Kimi no Na wa.</td>\n",
              "      <td>9.37</td>\n",
              "    </tr>\n",
              "    <tr>\n",
              "      <th>1</th>\n",
              "      <td>5114</td>\n",
              "      <td>Fullmetal Alchemist: Brotherhood</td>\n",
              "      <td>9.26</td>\n",
              "    </tr>\n",
              "    <tr>\n",
              "      <th>2</th>\n",
              "      <td>28977</td>\n",
              "      <td>Gintama°</td>\n",
              "      <td>9.25</td>\n",
              "    </tr>\n",
              "    <tr>\n",
              "      <th>3</th>\n",
              "      <td>9253</td>\n",
              "      <td>Steins;Gate</td>\n",
              "      <td>9.17</td>\n",
              "    </tr>\n",
              "    <tr>\n",
              "      <th>4</th>\n",
              "      <td>9969</td>\n",
              "      <td>Gintama&amp;#039;</td>\n",
              "      <td>9.16</td>\n",
              "    </tr>\n",
              "  </tbody>\n",
              "</table>\n",
              "</div>"
            ],
            "text/plain": [
              "   anime_id                              name  rating\n",
              "0     32281                    Kimi no Na wa.    9.37\n",
              "1      5114  Fullmetal Alchemist: Brotherhood    9.26\n",
              "2     28977                          Gintama°    9.25\n",
              "3      9253                       Steins;Gate    9.17\n",
              "4      9969                     Gintama&#039;    9.16"
            ]
          },
          "metadata": {
            "tags": []
          },
          "execution_count": 6
        }
      ]
    },
    {
      "cell_type": "code",
      "metadata": {
        "id": "MoxrWdrLwazT"
      },
      "source": [
        "anime_df_duplicates = anime_df.duplicated(subset='anime_id')"
      ],
      "execution_count": null,
      "outputs": []
    },
    {
      "cell_type": "code",
      "metadata": {
        "colab": {
          "base_uri": "https://localhost:8080/"
        },
        "id": "6tg5h88WwazT",
        "outputId": "4ae4dad1-e543-43f7-bb6c-20e8d442ad13"
      },
      "source": [
        "anime_df_duplicates.value_counts()"
      ],
      "execution_count": null,
      "outputs": [
        {
          "output_type": "execute_result",
          "data": {
            "text/plain": [
              "False    12294\n",
              "dtype: int64"
            ]
          },
          "metadata": {
            "tags": []
          },
          "execution_count": 8
        }
      ]
    },
    {
      "cell_type": "code",
      "metadata": {
        "id": "vhOBTpuswazT"
      },
      "source": [
        "anime_df_null = pd.isnull(anime_df)"
      ],
      "execution_count": null,
      "outputs": []
    },
    {
      "cell_type": "code",
      "metadata": {
        "colab": {
          "base_uri": "https://localhost:8080/",
          "height": 402
        },
        "id": "1Lr3UyFGfMXO",
        "outputId": "7e63a81e-fe0e-4bbb-da99-14306aecc661"
      },
      "source": [
        "anime_df_null"
      ],
      "execution_count": null,
      "outputs": [
        {
          "output_type": "execute_result",
          "data": {
            "text/html": [
              "<div>\n",
              "<style scoped>\n",
              "    .dataframe tbody tr th:only-of-type {\n",
              "        vertical-align: middle;\n",
              "    }\n",
              "\n",
              "    .dataframe tbody tr th {\n",
              "        vertical-align: top;\n",
              "    }\n",
              "\n",
              "    .dataframe thead th {\n",
              "        text-align: right;\n",
              "    }\n",
              "</style>\n",
              "<table border=\"1\" class=\"dataframe\">\n",
              "  <thead>\n",
              "    <tr style=\"text-align: right;\">\n",
              "      <th></th>\n",
              "      <th>anime_id</th>\n",
              "      <th>name</th>\n",
              "      <th>rating</th>\n",
              "    </tr>\n",
              "  </thead>\n",
              "  <tbody>\n",
              "    <tr>\n",
              "      <th>0</th>\n",
              "      <td>False</td>\n",
              "      <td>False</td>\n",
              "      <td>False</td>\n",
              "    </tr>\n",
              "    <tr>\n",
              "      <th>1</th>\n",
              "      <td>False</td>\n",
              "      <td>False</td>\n",
              "      <td>False</td>\n",
              "    </tr>\n",
              "    <tr>\n",
              "      <th>2</th>\n",
              "      <td>False</td>\n",
              "      <td>False</td>\n",
              "      <td>False</td>\n",
              "    </tr>\n",
              "    <tr>\n",
              "      <th>3</th>\n",
              "      <td>False</td>\n",
              "      <td>False</td>\n",
              "      <td>False</td>\n",
              "    </tr>\n",
              "    <tr>\n",
              "      <th>4</th>\n",
              "      <td>False</td>\n",
              "      <td>False</td>\n",
              "      <td>False</td>\n",
              "    </tr>\n",
              "    <tr>\n",
              "      <th>...</th>\n",
              "      <td>...</td>\n",
              "      <td>...</td>\n",
              "      <td>...</td>\n",
              "    </tr>\n",
              "    <tr>\n",
              "      <th>12289</th>\n",
              "      <td>False</td>\n",
              "      <td>False</td>\n",
              "      <td>False</td>\n",
              "    </tr>\n",
              "    <tr>\n",
              "      <th>12290</th>\n",
              "      <td>False</td>\n",
              "      <td>False</td>\n",
              "      <td>False</td>\n",
              "    </tr>\n",
              "    <tr>\n",
              "      <th>12291</th>\n",
              "      <td>False</td>\n",
              "      <td>False</td>\n",
              "      <td>False</td>\n",
              "    </tr>\n",
              "    <tr>\n",
              "      <th>12292</th>\n",
              "      <td>False</td>\n",
              "      <td>False</td>\n",
              "      <td>False</td>\n",
              "    </tr>\n",
              "    <tr>\n",
              "      <th>12293</th>\n",
              "      <td>False</td>\n",
              "      <td>False</td>\n",
              "      <td>False</td>\n",
              "    </tr>\n",
              "  </tbody>\n",
              "</table>\n",
              "<p>12294 rows × 3 columns</p>\n",
              "</div>"
            ],
            "text/plain": [
              "       anime_id   name  rating\n",
              "0         False  False   False\n",
              "1         False  False   False\n",
              "2         False  False   False\n",
              "3         False  False   False\n",
              "4         False  False   False\n",
              "...         ...    ...     ...\n",
              "12289     False  False   False\n",
              "12290     False  False   False\n",
              "12291     False  False   False\n",
              "12292     False  False   False\n",
              "12293     False  False   False\n",
              "\n",
              "[12294 rows x 3 columns]"
            ]
          },
          "metadata": {
            "tags": []
          },
          "execution_count": 10
        }
      ]
    },
    {
      "cell_type": "code",
      "metadata": {
        "colab": {
          "base_uri": "https://localhost:8080/"
        },
        "id": "JuHDHYsMwazT",
        "outputId": "9c4cb3ae-b693-40ac-d5a3-5b903c47dc89"
      },
      "source": [
        "anime_df_null.value_counts()"
      ],
      "execution_count": null,
      "outputs": [
        {
          "output_type": "execute_result",
          "data": {
            "text/plain": [
              "anime_id  name   rating\n",
              "False     False  False     12064\n",
              "                 True        230\n",
              "dtype: int64"
            ]
          },
          "metadata": {
            "tags": []
          },
          "execution_count": 11
        }
      ]
    },
    {
      "cell_type": "code",
      "metadata": {
        "colab": {
          "base_uri": "https://localhost:8080/",
          "height": 402
        },
        "id": "xY0CK25_fYNm",
        "outputId": "e9f4000b-dbea-4554-95fc-16a0bf237f4c"
      },
      "source": [
        "anime_df.dropna()"
      ],
      "execution_count": null,
      "outputs": [
        {
          "output_type": "execute_result",
          "data": {
            "text/html": [
              "<div>\n",
              "<style scoped>\n",
              "    .dataframe tbody tr th:only-of-type {\n",
              "        vertical-align: middle;\n",
              "    }\n",
              "\n",
              "    .dataframe tbody tr th {\n",
              "        vertical-align: top;\n",
              "    }\n",
              "\n",
              "    .dataframe thead th {\n",
              "        text-align: right;\n",
              "    }\n",
              "</style>\n",
              "<table border=\"1\" class=\"dataframe\">\n",
              "  <thead>\n",
              "    <tr style=\"text-align: right;\">\n",
              "      <th></th>\n",
              "      <th>anime_id</th>\n",
              "      <th>name</th>\n",
              "      <th>rating</th>\n",
              "    </tr>\n",
              "  </thead>\n",
              "  <tbody>\n",
              "    <tr>\n",
              "      <th>0</th>\n",
              "      <td>32281</td>\n",
              "      <td>Kimi no Na wa.</td>\n",
              "      <td>9.37</td>\n",
              "    </tr>\n",
              "    <tr>\n",
              "      <th>1</th>\n",
              "      <td>5114</td>\n",
              "      <td>Fullmetal Alchemist: Brotherhood</td>\n",
              "      <td>9.26</td>\n",
              "    </tr>\n",
              "    <tr>\n",
              "      <th>2</th>\n",
              "      <td>28977</td>\n",
              "      <td>Gintama°</td>\n",
              "      <td>9.25</td>\n",
              "    </tr>\n",
              "    <tr>\n",
              "      <th>3</th>\n",
              "      <td>9253</td>\n",
              "      <td>Steins;Gate</td>\n",
              "      <td>9.17</td>\n",
              "    </tr>\n",
              "    <tr>\n",
              "      <th>4</th>\n",
              "      <td>9969</td>\n",
              "      <td>Gintama&amp;#039;</td>\n",
              "      <td>9.16</td>\n",
              "    </tr>\n",
              "    <tr>\n",
              "      <th>...</th>\n",
              "      <td>...</td>\n",
              "      <td>...</td>\n",
              "      <td>...</td>\n",
              "    </tr>\n",
              "    <tr>\n",
              "      <th>12289</th>\n",
              "      <td>9316</td>\n",
              "      <td>Toushindai My Lover: Minami tai Mecha-Minami</td>\n",
              "      <td>4.15</td>\n",
              "    </tr>\n",
              "    <tr>\n",
              "      <th>12290</th>\n",
              "      <td>5543</td>\n",
              "      <td>Under World</td>\n",
              "      <td>4.28</td>\n",
              "    </tr>\n",
              "    <tr>\n",
              "      <th>12291</th>\n",
              "      <td>5621</td>\n",
              "      <td>Violence Gekiga David no Hoshi</td>\n",
              "      <td>4.88</td>\n",
              "    </tr>\n",
              "    <tr>\n",
              "      <th>12292</th>\n",
              "      <td>6133</td>\n",
              "      <td>Violence Gekiga Shin David no Hoshi: Inma Dens...</td>\n",
              "      <td>4.98</td>\n",
              "    </tr>\n",
              "    <tr>\n",
              "      <th>12293</th>\n",
              "      <td>26081</td>\n",
              "      <td>Yasuji no Pornorama: Yacchimae!!</td>\n",
              "      <td>5.46</td>\n",
              "    </tr>\n",
              "  </tbody>\n",
              "</table>\n",
              "<p>12064 rows × 3 columns</p>\n",
              "</div>"
            ],
            "text/plain": [
              "       anime_id                                               name  rating\n",
              "0         32281                                     Kimi no Na wa.    9.37\n",
              "1          5114                   Fullmetal Alchemist: Brotherhood    9.26\n",
              "2         28977                                           Gintama°    9.25\n",
              "3          9253                                        Steins;Gate    9.17\n",
              "4          9969                                      Gintama&#039;    9.16\n",
              "...         ...                                                ...     ...\n",
              "12289      9316       Toushindai My Lover: Minami tai Mecha-Minami    4.15\n",
              "12290      5543                                        Under World    4.28\n",
              "12291      5621                     Violence Gekiga David no Hoshi    4.88\n",
              "12292      6133  Violence Gekiga Shin David no Hoshi: Inma Dens...    4.98\n",
              "12293     26081                   Yasuji no Pornorama: Yacchimae!!    5.46\n",
              "\n",
              "[12064 rows x 3 columns]"
            ]
          },
          "metadata": {
            "tags": []
          },
          "execution_count": 12
        }
      ]
    },
    {
      "cell_type": "code",
      "metadata": {
        "id": "X727zchowazU"
      },
      "source": [
        "ratings_df = pd.read_csv('/content/rating.csv')"
      ],
      "execution_count": null,
      "outputs": []
    },
    {
      "cell_type": "code",
      "metadata": {
        "colab": {
          "base_uri": "https://localhost:8080/",
          "height": 195
        },
        "id": "f3sdmu3jwazU",
        "outputId": "9ce57465-3b5f-4aee-e5c5-891ef5d1489b"
      },
      "source": [
        "ratings_df.head()"
      ],
      "execution_count": null,
      "outputs": [
        {
          "output_type": "execute_result",
          "data": {
            "text/html": [
              "<div>\n",
              "<style scoped>\n",
              "    .dataframe tbody tr th:only-of-type {\n",
              "        vertical-align: middle;\n",
              "    }\n",
              "\n",
              "    .dataframe tbody tr th {\n",
              "        vertical-align: top;\n",
              "    }\n",
              "\n",
              "    .dataframe thead th {\n",
              "        text-align: right;\n",
              "    }\n",
              "</style>\n",
              "<table border=\"1\" class=\"dataframe\">\n",
              "  <thead>\n",
              "    <tr style=\"text-align: right;\">\n",
              "      <th></th>\n",
              "      <th>user_id</th>\n",
              "      <th>anime_id</th>\n",
              "      <th>rating</th>\n",
              "    </tr>\n",
              "  </thead>\n",
              "  <tbody>\n",
              "    <tr>\n",
              "      <th>0</th>\n",
              "      <td>1</td>\n",
              "      <td>20</td>\n",
              "      <td>-1</td>\n",
              "    </tr>\n",
              "    <tr>\n",
              "      <th>1</th>\n",
              "      <td>1</td>\n",
              "      <td>24</td>\n",
              "      <td>-1</td>\n",
              "    </tr>\n",
              "    <tr>\n",
              "      <th>2</th>\n",
              "      <td>1</td>\n",
              "      <td>79</td>\n",
              "      <td>-1</td>\n",
              "    </tr>\n",
              "    <tr>\n",
              "      <th>3</th>\n",
              "      <td>1</td>\n",
              "      <td>226</td>\n",
              "      <td>-1</td>\n",
              "    </tr>\n",
              "    <tr>\n",
              "      <th>4</th>\n",
              "      <td>1</td>\n",
              "      <td>241</td>\n",
              "      <td>-1</td>\n",
              "    </tr>\n",
              "  </tbody>\n",
              "</table>\n",
              "</div>"
            ],
            "text/plain": [
              "   user_id  anime_id  rating\n",
              "0        1        20      -1\n",
              "1        1        24      -1\n",
              "2        1        79      -1\n",
              "3        1       226      -1\n",
              "4        1       241      -1"
            ]
          },
          "metadata": {
            "tags": []
          },
          "execution_count": 14
        }
      ]
    },
    {
      "cell_type": "code",
      "metadata": {
        "colab": {
          "base_uri": "https://localhost:8080/"
        },
        "id": "DUgKvQ2swazU",
        "outputId": "7f45ff92-2704-4676-fcb4-88ca25776fa0"
      },
      "source": [
        "ratings_df.shape"
      ],
      "execution_count": null,
      "outputs": [
        {
          "output_type": "execute_result",
          "data": {
            "text/plain": [
              "(7813737, 3)"
            ]
          },
          "metadata": {
            "tags": []
          },
          "execution_count": 15
        }
      ]
    },
    {
      "cell_type": "code",
      "metadata": {
        "id": "E8SrmwgYwazV"
      },
      "source": [
        "ratings_df_duplicates = ratings_df.duplicated(subset=['user_id','anime_id'])"
      ],
      "execution_count": null,
      "outputs": []
    },
    {
      "cell_type": "code",
      "metadata": {
        "colab": {
          "base_uri": "https://localhost:8080/"
        },
        "id": "i0FHBS28wazV",
        "outputId": "81850718-46a1-4ffa-bc9e-c902865ea617"
      },
      "source": [
        "ratings_df_duplicates.value_counts()"
      ],
      "execution_count": null,
      "outputs": [
        {
          "output_type": "execute_result",
          "data": {
            "text/plain": [
              "False    7813730\n",
              "True           7\n",
              "dtype: int64"
            ]
          },
          "metadata": {
            "tags": []
          },
          "execution_count": 17
        }
      ]
    },
    {
      "cell_type": "code",
      "metadata": {
        "id": "GhzIrZnhwazV"
      },
      "source": [
        "ratings_df = ratings_df.drop_duplicates(subset=['user_id','anime_id'])"
      ],
      "execution_count": null,
      "outputs": []
    },
    {
      "cell_type": "code",
      "metadata": {
        "colab": {
          "base_uri": "https://localhost:8080/"
        },
        "id": "bap1oqS8wazV",
        "outputId": "a6763931-3c29-47e3-863a-86002376c68a"
      },
      "source": [
        "ratings_df.shape"
      ],
      "execution_count": null,
      "outputs": [
        {
          "output_type": "execute_result",
          "data": {
            "text/plain": [
              "(7813730, 3)"
            ]
          },
          "metadata": {
            "tags": []
          },
          "execution_count": 19
        }
      ]
    },
    {
      "cell_type": "code",
      "metadata": {
        "id": "zNrXtu_mwazV"
      },
      "source": [
        "ratings_df = ratings_df[ratings_df['rating'] != -1]"
      ],
      "execution_count": null,
      "outputs": []
    },
    {
      "cell_type": "code",
      "metadata": {
        "colab": {
          "base_uri": "https://localhost:8080/"
        },
        "id": "JryWVinwwazW",
        "outputId": "437f2c0b-ca21-4013-9433-0b4c0fba71cc"
      },
      "source": [
        "ratings_df.shape"
      ],
      "execution_count": null,
      "outputs": [
        {
          "output_type": "execute_result",
          "data": {
            "text/plain": [
              "(6337234, 3)"
            ]
          },
          "metadata": {
            "tags": []
          },
          "execution_count": 21
        }
      ]
    },
    {
      "cell_type": "code",
      "metadata": {
        "id": "7iaAilpwgScE"
      },
      "source": [
        "#filtering the users who have rated atleast 200 movies x\n",
        "counts = ratings_df['user_id'].value_counts()\n",
        "ratings_df = ratings_df[ratings_df['user_id'].isin(counts[counts >= 200].index)]"
      ],
      "execution_count": null,
      "outputs": []
    },
    {
      "cell_type": "code",
      "metadata": {
        "id": "O7ZBD7SFoRzB"
      },
      "source": [
        "#dropping the rows with ratings 1-5\n",
        "mask = (ratings_df['rating'] == -1) | (ratings_df['rating'] == 1) | (ratings_df['rating'] == 2) | (ratings_df['rating'] == 3) | (ratings_df['rating'] == 4) | (ratings_df['rating'] == 5)\n",
        "\n",
        "ratings_df = ratings_df.loc[~mask]\n"
      ],
      "execution_count": null,
      "outputs": []
    },
    {
      "cell_type": "code",
      "metadata": {
        "colab": {
          "base_uri": "https://localhost:8080/"
        },
        "id": "oVF7mFfOgh4y",
        "outputId": "79707b55-6e80-46bb-cb97-3b225bbe0436"
      },
      "source": [
        "ratings_df.shape"
      ],
      "execution_count": null,
      "outputs": [
        {
          "output_type": "execute_result",
          "data": {
            "text/plain": [
              "(2896427, 3)"
            ]
          },
          "metadata": {
            "tags": []
          },
          "execution_count": 24
        }
      ]
    },
    {
      "cell_type": "code",
      "metadata": {
        "id": "_o4TySPQn1jk"
      },
      "source": [
        "#changing the scale of ratings of 6-10 to 1-5 \n",
        "def change_rating(rating):\n",
        "    if rating == 6:\n",
        "        return 1\n",
        "    elif rating == 7:\n",
        "        return 2\n",
        "    elif rating == 8:\n",
        "        return 3\n",
        "    elif rating == 9:\n",
        "        return 4\n",
        "    elif rating == 10:\n",
        "        return 5\n",
        "    \n",
        "ratings_df['rating'] = ratings_df['rating'].apply(change_rating)"
      ],
      "execution_count": null,
      "outputs": []
    },
    {
      "cell_type": "code",
      "metadata": {
        "colab": {
          "base_uri": "https://localhost:8080/",
          "height": 195
        },
        "id": "h0_sdwCgwazW",
        "outputId": "14a3a684-8b2e-4acf-eea6-089c44216676"
      },
      "source": [
        "ratings_df.head()"
      ],
      "execution_count": null,
      "outputs": [
        {
          "output_type": "execute_result",
          "data": {
            "text/html": [
              "<div>\n",
              "<style scoped>\n",
              "    .dataframe tbody tr th:only-of-type {\n",
              "        vertical-align: middle;\n",
              "    }\n",
              "\n",
              "    .dataframe tbody tr th {\n",
              "        vertical-align: top;\n",
              "    }\n",
              "\n",
              "    .dataframe thead th {\n",
              "        text-align: right;\n",
              "    }\n",
              "</style>\n",
              "<table border=\"1\" class=\"dataframe\">\n",
              "  <thead>\n",
              "    <tr style=\"text-align: right;\">\n",
              "      <th></th>\n",
              "      <th>user_id</th>\n",
              "      <th>anime_id</th>\n",
              "      <th>rating</th>\n",
              "    </tr>\n",
              "  </thead>\n",
              "  <tbody>\n",
              "    <tr>\n",
              "      <th>302</th>\n",
              "      <td>5</td>\n",
              "      <td>6</td>\n",
              "      <td>3</td>\n",
              "    </tr>\n",
              "    <tr>\n",
              "      <th>303</th>\n",
              "      <td>5</td>\n",
              "      <td>15</td>\n",
              "      <td>1</td>\n",
              "    </tr>\n",
              "    <tr>\n",
              "      <th>304</th>\n",
              "      <td>5</td>\n",
              "      <td>17</td>\n",
              "      <td>1</td>\n",
              "    </tr>\n",
              "    <tr>\n",
              "      <th>305</th>\n",
              "      <td>5</td>\n",
              "      <td>18</td>\n",
              "      <td>1</td>\n",
              "    </tr>\n",
              "    <tr>\n",
              "      <th>306</th>\n",
              "      <td>5</td>\n",
              "      <td>20</td>\n",
              "      <td>1</td>\n",
              "    </tr>\n",
              "  </tbody>\n",
              "</table>\n",
              "</div>"
            ],
            "text/plain": [
              "     user_id  anime_id  rating\n",
              "302        5         6       3\n",
              "303        5        15       1\n",
              "304        5        17       1\n",
              "305        5        18       1\n",
              "306        5        20       1"
            ]
          },
          "metadata": {
            "tags": []
          },
          "execution_count": 27
        }
      ]
    },
    {
      "cell_type": "code",
      "metadata": {
        "colab": {
          "base_uri": "https://localhost:8080/"
        },
        "id": "PqUWKFkiwazW",
        "outputId": "2706831f-d1ca-45c6-d97e-bd72816ab0cb"
      },
      "source": [
        "ratings_df.dtypes"
      ],
      "execution_count": null,
      "outputs": [
        {
          "output_type": "execute_result",
          "data": {
            "text/plain": [
              "user_id     int64\n",
              "anime_id    int64\n",
              "rating      int64\n",
              "dtype: object"
            ]
          },
          "metadata": {
            "tags": []
          },
          "execution_count": 28
        }
      ]
    },
    {
      "cell_type": "code",
      "metadata": {
        "id": "yyoCbCTXCcZi"
      },
      "source": [
        "#converting the data types from int64 to int32\n",
        "data_type = {'user_id': 'int32','anime_id':'int32','rating': 'int32'}\n",
        "ratings_df = ratings_df.astype(data_type)"
      ],
      "execution_count": null,
      "outputs": []
    },
    {
      "cell_type": "code",
      "metadata": {
        "id": "KKS6CQNoh39T"
      },
      "source": [
        "import re\n",
        "def text_cleaning(text):\n",
        "    text = re.sub(r'&quot;', '', text)\n",
        "    text = re.sub(r'.hack//', '', text)\n",
        "    text = re.sub(r'&#039;', '', text)\n",
        "    text = re.sub(r'A&#039;s', '', text)\n",
        "    text = re.sub(r'I&#039;', 'I\\'', text)\n",
        "    text = re.sub(r'&amp;', 'and', text)\n",
        "    text = re.sub(r'°','',text)\n",
        "\n",
        "    return text\n",
        "\n",
        "anime_df['name'] = anime_df['name'].apply(text_cleaning)"
      ],
      "execution_count": null,
      "outputs": []
    },
    {
      "cell_type": "code",
      "metadata": {
        "colab": {
          "base_uri": "https://localhost:8080/",
          "height": 195
        },
        "id": "ZRGNTK-vwazW",
        "outputId": "5888ffc8-1bb5-49d4-9451-b215d84124aa"
      },
      "source": [
        "anime_df.head()"
      ],
      "execution_count": null,
      "outputs": [
        {
          "output_type": "execute_result",
          "data": {
            "text/html": [
              "<div>\n",
              "<style scoped>\n",
              "    .dataframe tbody tr th:only-of-type {\n",
              "        vertical-align: middle;\n",
              "    }\n",
              "\n",
              "    .dataframe tbody tr th {\n",
              "        vertical-align: top;\n",
              "    }\n",
              "\n",
              "    .dataframe thead th {\n",
              "        text-align: right;\n",
              "    }\n",
              "</style>\n",
              "<table border=\"1\" class=\"dataframe\">\n",
              "  <thead>\n",
              "    <tr style=\"text-align: right;\">\n",
              "      <th></th>\n",
              "      <th>anime_id</th>\n",
              "      <th>name</th>\n",
              "      <th>rating</th>\n",
              "    </tr>\n",
              "  </thead>\n",
              "  <tbody>\n",
              "    <tr>\n",
              "      <th>0</th>\n",
              "      <td>32281</td>\n",
              "      <td>Kimi no Na wa.</td>\n",
              "      <td>9.37</td>\n",
              "    </tr>\n",
              "    <tr>\n",
              "      <th>1</th>\n",
              "      <td>5114</td>\n",
              "      <td>Fullmetal Alchemist: Brotherhood</td>\n",
              "      <td>9.26</td>\n",
              "    </tr>\n",
              "    <tr>\n",
              "      <th>2</th>\n",
              "      <td>28977</td>\n",
              "      <td>Gintama</td>\n",
              "      <td>9.25</td>\n",
              "    </tr>\n",
              "    <tr>\n",
              "      <th>3</th>\n",
              "      <td>9253</td>\n",
              "      <td>Steins;Gate</td>\n",
              "      <td>9.17</td>\n",
              "    </tr>\n",
              "    <tr>\n",
              "      <th>4</th>\n",
              "      <td>9969</td>\n",
              "      <td>Gintama</td>\n",
              "      <td>9.16</td>\n",
              "    </tr>\n",
              "  </tbody>\n",
              "</table>\n",
              "</div>"
            ],
            "text/plain": [
              "   anime_id                              name  rating\n",
              "0     32281                    Kimi no Na wa.    9.37\n",
              "1      5114  Fullmetal Alchemist: Brotherhood    9.26\n",
              "2     28977                           Gintama    9.25\n",
              "3      9253                       Steins;Gate    9.17\n",
              "4      9969                           Gintama    9.16"
            ]
          },
          "metadata": {
            "tags": []
          },
          "execution_count": 31
        }
      ]
    },
    {
      "cell_type": "markdown",
      "metadata": {
        "id": "X2apMMvUwazX"
      },
      "source": [
        "### Pearson Correlation\n"
      ]
    },
    {
      "cell_type": "code",
      "metadata": {
        "id": "8T4VZC29wazX",
        "outputId": "7dfaaa38-4ed8-4856-b9b3-5a2eab3341c4"
      },
      "source": [
        "#user input on which we would provide the user recommendations\n",
        "user_input = [{'name':'Plastic Memories','score':'9'},\n",
        "              {'name':'Kimi no Na wa.','score':'10'},\n",
        "              {'name':'Koe no Katachi','score':'9'},\n",
        "              {'name':'Toradora!','score':'8'},\n",
        "              {'name':'Nisekoi','score':'7'}\n",
        "             ]\n",
        "anime_input = pd.DataFrame(user_input)\n",
        "anime_input"
      ],
      "execution_count": null,
      "outputs": [
        {
          "output_type": "execute_result",
          "data": {
            "text/html": [
              "<div>\n",
              "<style scoped>\n",
              "    .dataframe tbody tr th:only-of-type {\n",
              "        vertical-align: middle;\n",
              "    }\n",
              "\n",
              "    .dataframe tbody tr th {\n",
              "        vertical-align: top;\n",
              "    }\n",
              "\n",
              "    .dataframe thead th {\n",
              "        text-align: right;\n",
              "    }\n",
              "</style>\n",
              "<table border=\"1\" class=\"dataframe\">\n",
              "  <thead>\n",
              "    <tr style=\"text-align: right;\">\n",
              "      <th></th>\n",
              "      <th>name</th>\n",
              "      <th>score</th>\n",
              "    </tr>\n",
              "  </thead>\n",
              "  <tbody>\n",
              "    <tr>\n",
              "      <th>0</th>\n",
              "      <td>Plastic Memories</td>\n",
              "      <td>9</td>\n",
              "    </tr>\n",
              "    <tr>\n",
              "      <th>1</th>\n",
              "      <td>Kimi no Na wa.</td>\n",
              "      <td>10</td>\n",
              "    </tr>\n",
              "    <tr>\n",
              "      <th>2</th>\n",
              "      <td>Koe no Katachi</td>\n",
              "      <td>9</td>\n",
              "    </tr>\n",
              "    <tr>\n",
              "      <th>3</th>\n",
              "      <td>Toradora!</td>\n",
              "      <td>8</td>\n",
              "    </tr>\n",
              "    <tr>\n",
              "      <th>4</th>\n",
              "      <td>Nisekoi</td>\n",
              "      <td>7</td>\n",
              "    </tr>\n",
              "  </tbody>\n",
              "</table>\n",
              "</div>"
            ],
            "text/plain": [
              "               name score\n",
              "0  Plastic Memories     9\n",
              "1    Kimi no Na wa.    10\n",
              "2    Koe no Katachi     9\n",
              "3         Toradora!     8\n",
              "4           Nisekoi     7"
            ]
          },
          "metadata": {
            "tags": []
          },
          "execution_count": 24
        }
      ]
    },
    {
      "cell_type": "code",
      "metadata": {
        "id": "bsULVRBMwazX",
        "outputId": "19b815a2-f3bf-47ef-cd57-7dda40cdb2ed"
      },
      "source": [
        "#Filtering out the movies by title\n",
        "input_uid = anime_df[anime_df['name'].isin(anime_input['name'].tolist())]\n",
        "#Then merging it so we can get the movieId. It's implicitly merging it by title.\n",
        "anime_input = pd.merge(input_uid, anime_input, on ='name')\n",
        "anime_input"
      ],
      "execution_count": null,
      "outputs": [
        {
          "output_type": "execute_result",
          "data": {
            "text/html": [
              "<div>\n",
              "<style scoped>\n",
              "    .dataframe tbody tr th:only-of-type {\n",
              "        vertical-align: middle;\n",
              "    }\n",
              "\n",
              "    .dataframe tbody tr th {\n",
              "        vertical-align: top;\n",
              "    }\n",
              "\n",
              "    .dataframe thead th {\n",
              "        text-align: right;\n",
              "    }\n",
              "</style>\n",
              "<table border=\"1\" class=\"dataframe\">\n",
              "  <thead>\n",
              "    <tr style=\"text-align: right;\">\n",
              "      <th></th>\n",
              "      <th>anime_id</th>\n",
              "      <th>name</th>\n",
              "      <th>rating</th>\n",
              "      <th>score</th>\n",
              "    </tr>\n",
              "  </thead>\n",
              "  <tbody>\n",
              "    <tr>\n",
              "      <th>0</th>\n",
              "      <td>32281</td>\n",
              "      <td>Kimi no Na wa.</td>\n",
              "      <td>9.37</td>\n",
              "      <td>10</td>\n",
              "    </tr>\n",
              "    <tr>\n",
              "      <th>1</th>\n",
              "      <td>28851</td>\n",
              "      <td>Koe no Katachi</td>\n",
              "      <td>9.05</td>\n",
              "      <td>9</td>\n",
              "    </tr>\n",
              "    <tr>\n",
              "      <th>2</th>\n",
              "      <td>4224</td>\n",
              "      <td>Toradora!</td>\n",
              "      <td>8.45</td>\n",
              "      <td>8</td>\n",
              "    </tr>\n",
              "    <tr>\n",
              "      <th>3</th>\n",
              "      <td>27775</td>\n",
              "      <td>Plastic Memories</td>\n",
              "      <td>7.95</td>\n",
              "      <td>9</td>\n",
              "    </tr>\n",
              "    <tr>\n",
              "      <th>4</th>\n",
              "      <td>18897</td>\n",
              "      <td>Nisekoi</td>\n",
              "      <td>7.91</td>\n",
              "      <td>7</td>\n",
              "    </tr>\n",
              "  </tbody>\n",
              "</table>\n",
              "</div>"
            ],
            "text/plain": [
              "   anime_id              name  rating score\n",
              "0     32281    Kimi no Na wa.    9.37    10\n",
              "1     28851    Koe no Katachi    9.05     9\n",
              "2      4224         Toradora!    8.45     8\n",
              "3     27775  Plastic Memories    7.95     9\n",
              "4     18897           Nisekoi    7.91     7"
            ]
          },
          "metadata": {
            "tags": []
          },
          "execution_count": 25
        }
      ]
    },
    {
      "cell_type": "code",
      "metadata": {
        "id": "L6KquocowazX",
        "outputId": "e31bfddb-77eb-480c-c494-920000998916"
      },
      "source": [
        "anime_input.drop('rating',axis =1)"
      ],
      "execution_count": null,
      "outputs": [
        {
          "output_type": "execute_result",
          "data": {
            "text/html": [
              "<div>\n",
              "<style scoped>\n",
              "    .dataframe tbody tr th:only-of-type {\n",
              "        vertical-align: middle;\n",
              "    }\n",
              "\n",
              "    .dataframe tbody tr th {\n",
              "        vertical-align: top;\n",
              "    }\n",
              "\n",
              "    .dataframe thead th {\n",
              "        text-align: right;\n",
              "    }\n",
              "</style>\n",
              "<table border=\"1\" class=\"dataframe\">\n",
              "  <thead>\n",
              "    <tr style=\"text-align: right;\">\n",
              "      <th></th>\n",
              "      <th>anime_id</th>\n",
              "      <th>name</th>\n",
              "      <th>score</th>\n",
              "    </tr>\n",
              "  </thead>\n",
              "  <tbody>\n",
              "    <tr>\n",
              "      <th>0</th>\n",
              "      <td>32281</td>\n",
              "      <td>Kimi no Na wa.</td>\n",
              "      <td>10</td>\n",
              "    </tr>\n",
              "    <tr>\n",
              "      <th>1</th>\n",
              "      <td>28851</td>\n",
              "      <td>Koe no Katachi</td>\n",
              "      <td>9</td>\n",
              "    </tr>\n",
              "    <tr>\n",
              "      <th>2</th>\n",
              "      <td>4224</td>\n",
              "      <td>Toradora!</td>\n",
              "      <td>8</td>\n",
              "    </tr>\n",
              "    <tr>\n",
              "      <th>3</th>\n",
              "      <td>27775</td>\n",
              "      <td>Plastic Memories</td>\n",
              "      <td>9</td>\n",
              "    </tr>\n",
              "    <tr>\n",
              "      <th>4</th>\n",
              "      <td>18897</td>\n",
              "      <td>Nisekoi</td>\n",
              "      <td>7</td>\n",
              "    </tr>\n",
              "  </tbody>\n",
              "</table>\n",
              "</div>"
            ],
            "text/plain": [
              "   anime_id              name score\n",
              "0     32281    Kimi no Na wa.    10\n",
              "1     28851    Koe no Katachi     9\n",
              "2      4224         Toradora!     8\n",
              "3     27775  Plastic Memories     9\n",
              "4     18897           Nisekoi     7"
            ]
          },
          "metadata": {
            "tags": []
          },
          "execution_count": 26
        }
      ]
    },
    {
      "cell_type": "code",
      "metadata": {
        "id": "SEMGJVxwwazY"
      },
      "source": [
        "user_subset = ratings_df[ratings_df['anime_id'].isin(anime_input['anime_id'].tolist())]"
      ],
      "execution_count": null,
      "outputs": []
    },
    {
      "cell_type": "code",
      "metadata": {
        "id": "oS5kdPG_wazY",
        "outputId": "49f60d7c-cb0e-43fe-e146-5e26bfc11dd2"
      },
      "source": [
        "user_subset.head()"
      ],
      "execution_count": null,
      "outputs": [
        {
          "output_type": "execute_result",
          "data": {
            "text/html": [
              "<div>\n",
              "<style scoped>\n",
              "    .dataframe tbody tr th:only-of-type {\n",
              "        vertical-align: middle;\n",
              "    }\n",
              "\n",
              "    .dataframe tbody tr th {\n",
              "        vertical-align: top;\n",
              "    }\n",
              "\n",
              "    .dataframe thead th {\n",
              "        text-align: right;\n",
              "    }\n",
              "</style>\n",
              "<table border=\"1\" class=\"dataframe\">\n",
              "  <thead>\n",
              "    <tr style=\"text-align: right;\">\n",
              "      <th></th>\n",
              "      <th>user_id</th>\n",
              "      <th>anime_id</th>\n",
              "      <th>rating</th>\n",
              "    </tr>\n",
              "  </thead>\n",
              "  <tbody>\n",
              "    <tr>\n",
              "      <th>449</th>\n",
              "      <td>5</td>\n",
              "      <td>4224</td>\n",
              "      <td>3</td>\n",
              "    </tr>\n",
              "    <tr>\n",
              "      <th>667</th>\n",
              "      <td>5</td>\n",
              "      <td>18897</td>\n",
              "      <td>2</td>\n",
              "    </tr>\n",
              "    <tr>\n",
              "      <th>1007</th>\n",
              "      <td>7</td>\n",
              "      <td>18897</td>\n",
              "      <td>8</td>\n",
              "    </tr>\n",
              "    <tr>\n",
              "      <th>1081</th>\n",
              "      <td>7</td>\n",
              "      <td>27775</td>\n",
              "      <td>8</td>\n",
              "    </tr>\n",
              "    <tr>\n",
              "      <th>1708</th>\n",
              "      <td>17</td>\n",
              "      <td>4224</td>\n",
              "      <td>7</td>\n",
              "    </tr>\n",
              "  </tbody>\n",
              "</table>\n",
              "</div>"
            ],
            "text/plain": [
              "      user_id  anime_id  rating\n",
              "449         5      4224       3\n",
              "667         5     18897       2\n",
              "1007        7     18897       8\n",
              "1081        7     27775       8\n",
              "1708       17      4224       7"
            ]
          },
          "metadata": {
            "tags": []
          },
          "execution_count": 28
        }
      ]
    },
    {
      "cell_type": "code",
      "metadata": {
        "id": "E1GNgTuzwazY",
        "outputId": "2c44cc19-0bb3-4b4b-a7b8-36a9211c0976"
      },
      "source": [
        "user_subset.dtypes"
      ],
      "execution_count": null,
      "outputs": [
        {
          "output_type": "execute_result",
          "data": {
            "text/plain": [
              "user_id     int64\n",
              "anime_id    int64\n",
              "rating      int64\n",
              "dtype: object"
            ]
          },
          "metadata": {
            "tags": []
          },
          "execution_count": 29
        }
      ]
    },
    {
      "cell_type": "code",
      "metadata": {
        "id": "Rx9QPYXlwazY",
        "outputId": "4de2abb6-8936-4000-f5e4-4e6c48ae0ed4"
      },
      "source": [
        "user_subset.sort_values('user_id',axis=0, ascending= True)"
      ],
      "execution_count": null,
      "outputs": [
        {
          "output_type": "execute_result",
          "data": {
            "text/html": [
              "<div>\n",
              "<style scoped>\n",
              "    .dataframe tbody tr th:only-of-type {\n",
              "        vertical-align: middle;\n",
              "    }\n",
              "\n",
              "    .dataframe tbody tr th {\n",
              "        vertical-align: top;\n",
              "    }\n",
              "\n",
              "    .dataframe thead th {\n",
              "        text-align: right;\n",
              "    }\n",
              "</style>\n",
              "<table border=\"1\" class=\"dataframe\">\n",
              "  <thead>\n",
              "    <tr style=\"text-align: right;\">\n",
              "      <th></th>\n",
              "      <th>user_id</th>\n",
              "      <th>anime_id</th>\n",
              "      <th>rating</th>\n",
              "    </tr>\n",
              "  </thead>\n",
              "  <tbody>\n",
              "    <tr>\n",
              "      <th>449</th>\n",
              "      <td>5</td>\n",
              "      <td>4224</td>\n",
              "      <td>3</td>\n",
              "    </tr>\n",
              "    <tr>\n",
              "      <th>667</th>\n",
              "      <td>5</td>\n",
              "      <td>18897</td>\n",
              "      <td>2</td>\n",
              "    </tr>\n",
              "    <tr>\n",
              "      <th>1007</th>\n",
              "      <td>7</td>\n",
              "      <td>18897</td>\n",
              "      <td>8</td>\n",
              "    </tr>\n",
              "    <tr>\n",
              "      <th>1081</th>\n",
              "      <td>7</td>\n",
              "      <td>27775</td>\n",
              "      <td>8</td>\n",
              "    </tr>\n",
              "    <tr>\n",
              "      <th>1708</th>\n",
              "      <td>17</td>\n",
              "      <td>4224</td>\n",
              "      <td>7</td>\n",
              "    </tr>\n",
              "    <tr>\n",
              "      <th>...</th>\n",
              "      <td>...</td>\n",
              "      <td>...</td>\n",
              "      <td>...</td>\n",
              "    </tr>\n",
              "    <tr>\n",
              "      <th>7812911</th>\n",
              "      <td>73503</td>\n",
              "      <td>27775</td>\n",
              "      <td>6</td>\n",
              "    </tr>\n",
              "    <tr>\n",
              "      <th>7813069</th>\n",
              "      <td>73506</td>\n",
              "      <td>4224</td>\n",
              "      <td>8</td>\n",
              "    </tr>\n",
              "    <tr>\n",
              "      <th>7813223</th>\n",
              "      <td>73507</td>\n",
              "      <td>4224</td>\n",
              "      <td>10</td>\n",
              "    </tr>\n",
              "    <tr>\n",
              "      <th>7813419</th>\n",
              "      <td>73510</td>\n",
              "      <td>4224</td>\n",
              "      <td>8</td>\n",
              "    </tr>\n",
              "    <tr>\n",
              "      <th>7813484</th>\n",
              "      <td>73511</td>\n",
              "      <td>4224</td>\n",
              "      <td>10</td>\n",
              "    </tr>\n",
              "  </tbody>\n",
              "</table>\n",
              "<p>35390 rows × 3 columns</p>\n",
              "</div>"
            ],
            "text/plain": [
              "         user_id  anime_id  rating\n",
              "449            5      4224       3\n",
              "667            5     18897       2\n",
              "1007           7     18897       8\n",
              "1081           7     27775       8\n",
              "1708          17      4224       7\n",
              "...          ...       ...     ...\n",
              "7812911    73503     27775       6\n",
              "7813069    73506      4224       8\n",
              "7813223    73507      4224      10\n",
              "7813419    73510      4224       8\n",
              "7813484    73511      4224      10\n",
              "\n",
              "[35390 rows x 3 columns]"
            ]
          },
          "metadata": {
            "tags": []
          },
          "execution_count": 30
        }
      ]
    },
    {
      "cell_type": "code",
      "metadata": {
        "id": "vFjl-F-OwazY"
      },
      "source": [
        "user_subset_group = user_subset.groupby(['user_id'])"
      ],
      "execution_count": null,
      "outputs": []
    },
    {
      "cell_type": "code",
      "metadata": {
        "scrolled": true,
        "id": "JoSk-uVGwazZ",
        "outputId": "23dde77f-07ad-423f-b9a8-46380d5d4640"
      },
      "source": [
        "user_subset_group.get_group(5)"
      ],
      "execution_count": null,
      "outputs": [
        {
          "output_type": "execute_result",
          "data": {
            "text/html": [
              "<div>\n",
              "<style scoped>\n",
              "    .dataframe tbody tr th:only-of-type {\n",
              "        vertical-align: middle;\n",
              "    }\n",
              "\n",
              "    .dataframe tbody tr th {\n",
              "        vertical-align: top;\n",
              "    }\n",
              "\n",
              "    .dataframe thead th {\n",
              "        text-align: right;\n",
              "    }\n",
              "</style>\n",
              "<table border=\"1\" class=\"dataframe\">\n",
              "  <thead>\n",
              "    <tr style=\"text-align: right;\">\n",
              "      <th></th>\n",
              "      <th>user_id</th>\n",
              "      <th>anime_id</th>\n",
              "      <th>rating</th>\n",
              "    </tr>\n",
              "  </thead>\n",
              "  <tbody>\n",
              "    <tr>\n",
              "      <th>449</th>\n",
              "      <td>5</td>\n",
              "      <td>4224</td>\n",
              "      <td>3</td>\n",
              "    </tr>\n",
              "    <tr>\n",
              "      <th>667</th>\n",
              "      <td>5</td>\n",
              "      <td>18897</td>\n",
              "      <td>2</td>\n",
              "    </tr>\n",
              "  </tbody>\n",
              "</table>\n",
              "</div>"
            ],
            "text/plain": [
              "     user_id  anime_id  rating\n",
              "449        5      4224       3\n",
              "667        5     18897       2"
            ]
          },
          "metadata": {
            "tags": []
          },
          "execution_count": 32
        }
      ]
    },
    {
      "cell_type": "code",
      "metadata": {
        "id": "JZ8cKQHSwazZ"
      },
      "source": [
        "user_subset_group = sorted(user_subset_group,  key=lambda x: len(x[1]), reverse=True)"
      ],
      "execution_count": null,
      "outputs": []
    },
    {
      "cell_type": "code",
      "metadata": {
        "id": "O4mh7IkXwazZ",
        "outputId": "bdbe5610-df07-4ee9-8b60-52014d707e95"
      },
      "source": [
        "user_subset_group[0:3]"
      ],
      "execution_count": null,
      "outputs": [
        {
          "output_type": "execute_result",
          "data": {
            "text/plain": [
              "[(2378,\n",
              "          user_id  anime_id  rating\n",
              "  231112     2378      4224       9\n",
              "  231381     2378     18897       8\n",
              "  231534     2378     27775       8\n",
              "  231571     2378     28851       8\n",
              "  231665     2378     32281       9),\n",
              " (18051,\n",
              "           user_id  anime_id  rating\n",
              "  1863757    18051      4224       9\n",
              "  1863951    18051     18897       8\n",
              "  1864036    18051     27775       7\n",
              "  1864056    18051     28851      10\n",
              "  1864113    18051     32281      10),\n",
              " (21856,\n",
              "           user_id  anime_id  rating\n",
              "  2268781    21856      4224      10\n",
              "  2269017    21856     18897       9\n",
              "  2269050    21856     27775       5\n",
              "  2269056    21856     28851      10\n",
              "  2269065    21856     32281      10)]"
            ]
          },
          "metadata": {
            "tags": []
          },
          "execution_count": 34
        }
      ]
    },
    {
      "cell_type": "code",
      "metadata": {
        "id": "4TSlA1O4wazZ"
      },
      "source": [
        "user_subset_group = user_subset_group[0:150]"
      ],
      "execution_count": null,
      "outputs": []
    },
    {
      "cell_type": "code",
      "metadata": {
        "id": "uPy38qqZwazZ"
      },
      "source": [
        "#Store the Pearson Correlation in a dictionary, where the key is the user Id and the value is the coefficient\n",
        "pearsonCorrelationDict = {}\n",
        "\n",
        "\n",
        "for name, group in user_subset_group:\n",
        "    group = group.sort_values(by='anime_id')\n",
        "    anime_input = anime_input.sort_values(by='anime_id')\n",
        "    nRatings = len(group)\n",
        "    temp_df = anime_input[anime_input['anime_id'].isin(group['anime_id'].tolist())]\n",
        "    tempRatingList = temp_df['rating'].tolist()\n",
        "    tempGroupList = group['rating'].tolist()\n",
        "    Sxx = sum([i**2 for i in tempRatingList]) - pow(sum(tempRatingList),2)/float(nRatings)\n",
        "    Syy = sum([i**2 for i in tempGroupList]) - pow(sum(tempGroupList),2)/float(nRatings)\n",
        "    Sxy = sum( i*j for i, j in zip(tempRatingList, tempGroupList)) - sum(tempRatingList)*sum(tempGroupList)/float(nRatings)\n",
        "    if Sxx != 0 and Syy != 0:\n",
        "        pearsonCorrelationDict[name] = Sxy/sqrt(Sxx*Syy)\n",
        "    else:\n",
        "        pearsonCorrelationDict[name] = 0\n"
      ],
      "execution_count": null,
      "outputs": []
    },
    {
      "cell_type": "code",
      "metadata": {
        "id": "t7XH_raewaza",
        "outputId": "d9de12fb-e02d-4784-eee1-df92fa173518"
      },
      "source": [
        "pearsonCorrelationDict.items()"
      ],
      "execution_count": null,
      "outputs": [
        {
          "output_type": "execute_result",
          "data": {
            "text/plain": [
              "dict_items([(2378, 0.5094143624775788), (18051, 0.9277115577805838), (21856, 0.6392635264571561), (29577, 0.7885974068408472), (36240, 0.6065120007896642), (40915, 0.8620858441928098), (45583, 0.8292908279004353), (56426, 0.8359986281140589), (63199, 0.08227287400315647), (271, 0.46125005497439786), (598, 0.832904637878156), (786, 0.4612500549744258), (894, 0.46125005497445365), (937, 0.7636408039485945), (996, -0.9891454708864988), (1013, 0.7373707948564309), (1309, 0.7123897432809194), (1441, 0.8533801784550874), (1497, 0.7123897432809194), (1504, 0.7123897432809194), (1522, 0.029441492870681322), (1620, 0.9323139409057453), (1862, 0.3245248565955841), (1963, 0.9891454708864696), (1987, 0.5528942001258226), (2016, 0.7431403796815361), (2025, 0.46125005497445365), (2050, 0.9323139409057453), (2197, 0.8246071096548084), (2562, 0.832904637878156), (2673, 0.832904637878156), (2723, 0.9323139409057453), (2810, 0.9323139409057453), (2820, -0.02403887826635348), (2951, 0.337705962868984), (2991, 0.8774190567214408), (3338, 0.8081946411931429), (3614, 0.832904637878156), (3638, 0.8246071096548084), (3643, 0.9323139409057453), (4174, 0.46125005497439786), (4329, 0.9084183638178407), (4333, 0.7949203075091209), (4445, 0.029441492870681322), (4449, 0.5005053788020287), (4528, 0.7636408039485945), (5669, 0.9891454708864696), (6034, 0.9274148141493472), (6223, -0.029441492870737107), (6714, 0.732890167548007), (8116, 0.9891454708864696), (8636, 0), (8643, -0.02944149287071851), (9091, 0.4663846520759859), (9560, 0.8533801784551215), (9595, 0.4079532920219619), (9640, 0.9891454708864696), (9692, 0.5005053788020287), (9713, 0.6248139042561281), (9716, 0.8533801784550874), (9722, 0.9891454708864696), (9746, 0.9891454708864696), (9754, -0.02944149287071851), (9798, 0), (10070, 0.8533801784551215), (10160, -0.7636408039486237), (10194, 0.832904637878132), (10826, 0.14572795479991743), (10925, 0), (10932, 0.8211702506709893), (11679, 0.7370283680087626), (12176, 0.7431403796815361), (12402, -0.005125106066764594), (12415, 0.32452485659561825), (12521, 0.5005053788020287), (12830, 0), (12837, 0.7370283680087404), (12888, 0.9242101757570004), (12969, 0), (13052, 0.46125005497441646), (13344, 0.8533801784550874), (13386, 0.832904637878156), (13432, 0.6509841201411968), (13569, 0), (13581, 0.46125005497439786), (13877, 0.46638465207600044), (14019, 0.34706626853321354), (14020, 0), (14094, 0.7370283680087626), (14116, -0.37395718435344893), (14182, 0.9323139409057453), (14340, 0.5005053788020287), (14366, 0), (14389, 0.9323139409057639), (14531, 0.8774190567214408), (14701, 0.832904637878156), (14838, 0.8774190567214408), (14911, 0.8533801784550874), (15041, 0.832904637878156), (15289, 0.7940413442716076), (15328, 0.8533801784550874), (15533, 0.9242101757570004), (15757, 0.9323139409057593), (15817, 0.9242101757570004), (15909, 0.5528942001258226), (15978, 0.37395718435344893), (16103, -0.23062977300461066), (16525, 0.3739571843534248), (16784, 0.8533801784551215), (17033, 0.7431403796815361), (17148, 0.9323139409057453), (17319, 0.9891454708864696), (17377, 0.8533801784550874), (17615, 0.7373707948564309), (17821, 0.7636408039485945), (17847, 0.9323139409057453), (17866, 0.832904637878132), (18160, 0.9323139409057453), (18303, 0.46638465207595675), (18477, 0.8246071096548248), (18527, 0.832904637878156), (19011, 0.46125005497439786), (19068, 0.6939426419044363), (19073, 0.9242101757570004), (19893, 0.9405589788283746), (20124, 0.7069637517695737), (20128, 0.9084183638178407), (20314, -0.40795329202191355), (20411, 0.9323139409057639), (20637, 0.9891454708864696), (20702, 0.8533801784550874), (20811, 0.9323139409057453), (21017, 0.832904637878132), (21021, 0.029441492870681322), (21075, 0.808005415451646), (21204, 0.832904637878156), (21249, 0.6939426419044363), (21280, 0.7636408039485945), (21298, 0.9323139409057453), (21329, 0.8533801784550874), (21559, 0.808005415451646), (21842, 0.9891454708864696), (22256, 0.46125005497439786), (22278, 0.9122112926058863), (22477, 0.5005053788020287), (22647, 0.9242101757570004), (23069, 0.7123897432809194), (23563, 0), (24074, 0), (24509, 0.9891454708864696)])"
            ]
          },
          "metadata": {
            "tags": []
          },
          "execution_count": 37
        }
      ]
    },
    {
      "cell_type": "code",
      "metadata": {
        "id": "-gqJXwq3waza",
        "outputId": "c8b851a8-7250-44b6-c619-65d4752a6c99"
      },
      "source": [
        "pearson_df = pd.DataFrame.from_dict(pearsonCorrelationDict, orient='index')#keys are the columns of the data frame that's why orient=index\n",
        "pearson_df.columns = ['similarity_index']\n",
        "pearson_df['user_id'] = pearson_df.index\n",
        "pearson_df.index = range(len(pearson_df))\n",
        "pearson_df.head()"
      ],
      "execution_count": null,
      "outputs": [
        {
          "output_type": "execute_result",
          "data": {
            "text/html": [
              "<div>\n",
              "<style scoped>\n",
              "    .dataframe tbody tr th:only-of-type {\n",
              "        vertical-align: middle;\n",
              "    }\n",
              "\n",
              "    .dataframe tbody tr th {\n",
              "        vertical-align: top;\n",
              "    }\n",
              "\n",
              "    .dataframe thead th {\n",
              "        text-align: right;\n",
              "    }\n",
              "</style>\n",
              "<table border=\"1\" class=\"dataframe\">\n",
              "  <thead>\n",
              "    <tr style=\"text-align: right;\">\n",
              "      <th></th>\n",
              "      <th>similarity_index</th>\n",
              "      <th>user_id</th>\n",
              "    </tr>\n",
              "  </thead>\n",
              "  <tbody>\n",
              "    <tr>\n",
              "      <th>0</th>\n",
              "      <td>0.509414</td>\n",
              "      <td>2378</td>\n",
              "    </tr>\n",
              "    <tr>\n",
              "      <th>1</th>\n",
              "      <td>0.927712</td>\n",
              "      <td>18051</td>\n",
              "    </tr>\n",
              "    <tr>\n",
              "      <th>2</th>\n",
              "      <td>0.639264</td>\n",
              "      <td>21856</td>\n",
              "    </tr>\n",
              "    <tr>\n",
              "      <th>3</th>\n",
              "      <td>0.788597</td>\n",
              "      <td>29577</td>\n",
              "    </tr>\n",
              "    <tr>\n",
              "      <th>4</th>\n",
              "      <td>0.606512</td>\n",
              "      <td>36240</td>\n",
              "    </tr>\n",
              "  </tbody>\n",
              "</table>\n",
              "</div>"
            ],
            "text/plain": [
              "   similarity_index  user_id\n",
              "0          0.509414     2378\n",
              "1          0.927712    18051\n",
              "2          0.639264    21856\n",
              "3          0.788597    29577\n",
              "4          0.606512    36240"
            ]
          },
          "metadata": {
            "tags": []
          },
          "execution_count": 38
        }
      ]
    },
    {
      "cell_type": "code",
      "metadata": {
        "id": "WdnAvUpOwaza",
        "outputId": "58a031f3-1295-4e82-905d-9a3c72230227"
      },
      "source": [
        "optimal_users=pearson_df.sort_values(by='similarity_index', ascending=False)[0:50]\n",
        "optimal_users.head()"
      ],
      "execution_count": null,
      "outputs": [
        {
          "output_type": "execute_result",
          "data": {
            "text/html": [
              "<div>\n",
              "<style scoped>\n",
              "    .dataframe tbody tr th:only-of-type {\n",
              "        vertical-align: middle;\n",
              "    }\n",
              "\n",
              "    .dataframe tbody tr th {\n",
              "        vertical-align: top;\n",
              "    }\n",
              "\n",
              "    .dataframe thead th {\n",
              "        text-align: right;\n",
              "    }\n",
              "</style>\n",
              "<table border=\"1\" class=\"dataframe\">\n",
              "  <thead>\n",
              "    <tr style=\"text-align: right;\">\n",
              "      <th></th>\n",
              "      <th>similarity_index</th>\n",
              "      <th>user_id</th>\n",
              "    </tr>\n",
              "  </thead>\n",
              "  <tbody>\n",
              "    <tr>\n",
              "      <th>149</th>\n",
              "      <td>0.989145</td>\n",
              "      <td>24509</td>\n",
              "    </tr>\n",
              "    <tr>\n",
              "      <th>141</th>\n",
              "      <td>0.989145</td>\n",
              "      <td>21842</td>\n",
              "    </tr>\n",
              "    <tr>\n",
              "      <th>111</th>\n",
              "      <td>0.989145</td>\n",
              "      <td>17319</td>\n",
              "    </tr>\n",
              "    <tr>\n",
              "      <th>61</th>\n",
              "      <td>0.989145</td>\n",
              "      <td>9746</td>\n",
              "    </tr>\n",
              "    <tr>\n",
              "      <th>60</th>\n",
              "      <td>0.989145</td>\n",
              "      <td>9722</td>\n",
              "    </tr>\n",
              "  </tbody>\n",
              "</table>\n",
              "</div>"
            ],
            "text/plain": [
              "     similarity_index  user_id\n",
              "149          0.989145    24509\n",
              "141          0.989145    21842\n",
              "111          0.989145    17319\n",
              "61           0.989145     9746\n",
              "60           0.989145     9722"
            ]
          },
          "metadata": {
            "tags": []
          },
          "execution_count": 39
        }
      ]
    },
    {
      "cell_type": "code",
      "metadata": {
        "id": "um0RsrBjwaza",
        "outputId": "5a494933-43ab-49dd-997a-4ffb30b24d26"
      },
      "source": [
        "optimal_users_rating=optimal_users.merge(ratings_df, left_on='user_id', right_on='user_id', how='inner')\n",
        "optimal_users_rating.head()"
      ],
      "execution_count": null,
      "outputs": [
        {
          "output_type": "execute_result",
          "data": {
            "text/html": [
              "<div>\n",
              "<style scoped>\n",
              "    .dataframe tbody tr th:only-of-type {\n",
              "        vertical-align: middle;\n",
              "    }\n",
              "\n",
              "    .dataframe tbody tr th {\n",
              "        vertical-align: top;\n",
              "    }\n",
              "\n",
              "    .dataframe thead th {\n",
              "        text-align: right;\n",
              "    }\n",
              "</style>\n",
              "<table border=\"1\" class=\"dataframe\">\n",
              "  <thead>\n",
              "    <tr style=\"text-align: right;\">\n",
              "      <th></th>\n",
              "      <th>similarity_index</th>\n",
              "      <th>user_id</th>\n",
              "      <th>anime_id</th>\n",
              "      <th>rating</th>\n",
              "    </tr>\n",
              "  </thead>\n",
              "  <tbody>\n",
              "    <tr>\n",
              "      <th>0</th>\n",
              "      <td>0.989145</td>\n",
              "      <td>24509</td>\n",
              "      <td>45</td>\n",
              "      <td>7</td>\n",
              "    </tr>\n",
              "    <tr>\n",
              "      <th>1</th>\n",
              "      <td>0.989145</td>\n",
              "      <td>24509</td>\n",
              "      <td>59</td>\n",
              "      <td>7</td>\n",
              "    </tr>\n",
              "    <tr>\n",
              "      <th>2</th>\n",
              "      <td>0.989145</td>\n",
              "      <td>24509</td>\n",
              "      <td>60</td>\n",
              "      <td>8</td>\n",
              "    </tr>\n",
              "    <tr>\n",
              "      <th>3</th>\n",
              "      <td>0.989145</td>\n",
              "      <td>24509</td>\n",
              "      <td>101</td>\n",
              "      <td>8</td>\n",
              "    </tr>\n",
              "    <tr>\n",
              "      <th>4</th>\n",
              "      <td>0.989145</td>\n",
              "      <td>24509</td>\n",
              "      <td>104</td>\n",
              "      <td>5</td>\n",
              "    </tr>\n",
              "  </tbody>\n",
              "</table>\n",
              "</div>"
            ],
            "text/plain": [
              "   similarity_index  user_id  anime_id  rating\n",
              "0          0.989145    24509        45       7\n",
              "1          0.989145    24509        59       7\n",
              "2          0.989145    24509        60       8\n",
              "3          0.989145    24509       101       8\n",
              "4          0.989145    24509       104       5"
            ]
          },
          "metadata": {
            "tags": []
          },
          "execution_count": 40
        }
      ]
    },
    {
      "cell_type": "code",
      "metadata": {
        "id": "Pw1viFLkwazb",
        "outputId": "81d76d35-b28d-44d4-e05b-03a8880fcb7a"
      },
      "source": [
        "optimal_users_rating['weighted_rating'] = optimal_users_rating['similarity_index']*optimal_users_rating['rating']\n",
        "optimal_users_rating.head()"
      ],
      "execution_count": null,
      "outputs": [
        {
          "output_type": "execute_result",
          "data": {
            "text/html": [
              "<div>\n",
              "<style scoped>\n",
              "    .dataframe tbody tr th:only-of-type {\n",
              "        vertical-align: middle;\n",
              "    }\n",
              "\n",
              "    .dataframe tbody tr th {\n",
              "        vertical-align: top;\n",
              "    }\n",
              "\n",
              "    .dataframe thead th {\n",
              "        text-align: right;\n",
              "    }\n",
              "</style>\n",
              "<table border=\"1\" class=\"dataframe\">\n",
              "  <thead>\n",
              "    <tr style=\"text-align: right;\">\n",
              "      <th></th>\n",
              "      <th>similarity_index</th>\n",
              "      <th>user_id</th>\n",
              "      <th>anime_id</th>\n",
              "      <th>rating</th>\n",
              "      <th>weighted_rating</th>\n",
              "    </tr>\n",
              "  </thead>\n",
              "  <tbody>\n",
              "    <tr>\n",
              "      <th>0</th>\n",
              "      <td>0.989145</td>\n",
              "      <td>24509</td>\n",
              "      <td>45</td>\n",
              "      <td>7</td>\n",
              "      <td>6.924018</td>\n",
              "    </tr>\n",
              "    <tr>\n",
              "      <th>1</th>\n",
              "      <td>0.989145</td>\n",
              "      <td>24509</td>\n",
              "      <td>59</td>\n",
              "      <td>7</td>\n",
              "      <td>6.924018</td>\n",
              "    </tr>\n",
              "    <tr>\n",
              "      <th>2</th>\n",
              "      <td>0.989145</td>\n",
              "      <td>24509</td>\n",
              "      <td>60</td>\n",
              "      <td>8</td>\n",
              "      <td>7.913164</td>\n",
              "    </tr>\n",
              "    <tr>\n",
              "      <th>3</th>\n",
              "      <td>0.989145</td>\n",
              "      <td>24509</td>\n",
              "      <td>101</td>\n",
              "      <td>8</td>\n",
              "      <td>7.913164</td>\n",
              "    </tr>\n",
              "    <tr>\n",
              "      <th>4</th>\n",
              "      <td>0.989145</td>\n",
              "      <td>24509</td>\n",
              "      <td>104</td>\n",
              "      <td>5</td>\n",
              "      <td>4.945727</td>\n",
              "    </tr>\n",
              "  </tbody>\n",
              "</table>\n",
              "</div>"
            ],
            "text/plain": [
              "   similarity_index  user_id  anime_id  rating  weighted_rating\n",
              "0          0.989145    24509        45       7         6.924018\n",
              "1          0.989145    24509        59       7         6.924018\n",
              "2          0.989145    24509        60       8         7.913164\n",
              "3          0.989145    24509       101       8         7.913164\n",
              "4          0.989145    24509       104       5         4.945727"
            ]
          },
          "metadata": {
            "tags": []
          },
          "execution_count": 41
        }
      ]
    },
    {
      "cell_type": "code",
      "metadata": {
        "id": "MRNoKzSFwazb",
        "outputId": "e4269228-56ca-402e-a566-61b3f5033f79"
      },
      "source": [
        "temp_optimal_users_rating = optimal_users_rating.groupby('anime_id').sum()[['similarity_index','weighted_rating']]\n",
        "temp_optimal_users_rating.columns = ['sum_similarity_index','sum_weighted_rating']\n",
        "temp_optimal_users_rating.head()"
      ],
      "execution_count": null,
      "outputs": [
        {
          "output_type": "execute_result",
          "data": {
            "text/html": [
              "<div>\n",
              "<style scoped>\n",
              "    .dataframe tbody tr th:only-of-type {\n",
              "        vertical-align: middle;\n",
              "    }\n",
              "\n",
              "    .dataframe tbody tr th {\n",
              "        vertical-align: top;\n",
              "    }\n",
              "\n",
              "    .dataframe thead th {\n",
              "        text-align: right;\n",
              "    }\n",
              "</style>\n",
              "<table border=\"1\" class=\"dataframe\">\n",
              "  <thead>\n",
              "    <tr style=\"text-align: right;\">\n",
              "      <th></th>\n",
              "      <th>sum_similarity_index</th>\n",
              "      <th>sum_weighted_rating</th>\n",
              "    </tr>\n",
              "    <tr>\n",
              "      <th>anime_id</th>\n",
              "      <th></th>\n",
              "      <th></th>\n",
              "    </tr>\n",
              "  </thead>\n",
              "  <tbody>\n",
              "    <tr>\n",
              "      <th>1</th>\n",
              "      <td>17.554799</td>\n",
              "      <td>148.141160</td>\n",
              "    </tr>\n",
              "    <tr>\n",
              "      <th>5</th>\n",
              "      <td>6.537633</td>\n",
              "      <td>53.282107</td>\n",
              "    </tr>\n",
              "    <tr>\n",
              "      <th>6</th>\n",
              "      <td>7.635529</td>\n",
              "      <td>63.062523</td>\n",
              "    </tr>\n",
              "    <tr>\n",
              "      <th>7</th>\n",
              "      <td>0.989145</td>\n",
              "      <td>5.934873</td>\n",
              "    </tr>\n",
              "    <tr>\n",
              "      <th>15</th>\n",
              "      <td>1.872873</td>\n",
              "      <td>14.050669</td>\n",
              "    </tr>\n",
              "  </tbody>\n",
              "</table>\n",
              "</div>"
            ],
            "text/plain": [
              "          sum_similarity_index  sum_weighted_rating\n",
              "anime_id                                           \n",
              "1                    17.554799           148.141160\n",
              "5                     6.537633            53.282107\n",
              "6                     7.635529            63.062523\n",
              "7                     0.989145             5.934873\n",
              "15                    1.872873            14.050669"
            ]
          },
          "metadata": {
            "tags": []
          },
          "execution_count": 42
        }
      ]
    },
    {
      "cell_type": "code",
      "metadata": {
        "id": "La8ZnATRwazb",
        "outputId": "4220e75f-1212-43f2-d564-217093ae9c7c"
      },
      "source": [
        "recommendation_df = pd.DataFrame()\n",
        "\n",
        "recommendation_df['recommendation score'] = temp_optimal_users_rating['sum_weighted_rating']/temp_optimal_users_rating['sum_similarity_index']\n",
        "recommendation_df['anime_id'] = temp_optimal_users_rating.index\n",
        "recommendation_df.head()"
      ],
      "execution_count": null,
      "outputs": [
        {
          "output_type": "execute_result",
          "data": {
            "text/html": [
              "<div>\n",
              "<style scoped>\n",
              "    .dataframe tbody tr th:only-of-type {\n",
              "        vertical-align: middle;\n",
              "    }\n",
              "\n",
              "    .dataframe tbody tr th {\n",
              "        vertical-align: top;\n",
              "    }\n",
              "\n",
              "    .dataframe thead th {\n",
              "        text-align: right;\n",
              "    }\n",
              "</style>\n",
              "<table border=\"1\" class=\"dataframe\">\n",
              "  <thead>\n",
              "    <tr style=\"text-align: right;\">\n",
              "      <th></th>\n",
              "      <th>recommendation score</th>\n",
              "      <th>anime_id</th>\n",
              "    </tr>\n",
              "    <tr>\n",
              "      <th>anime_id</th>\n",
              "      <th></th>\n",
              "      <th></th>\n",
              "    </tr>\n",
              "  </thead>\n",
              "  <tbody>\n",
              "    <tr>\n",
              "      <th>1</th>\n",
              "      <td>8.438784</td>\n",
              "      <td>1</td>\n",
              "    </tr>\n",
              "    <tr>\n",
              "      <th>5</th>\n",
              "      <td>8.150061</td>\n",
              "      <td>5</td>\n",
              "    </tr>\n",
              "    <tr>\n",
              "      <th>6</th>\n",
              "      <td>8.259090</td>\n",
              "      <td>6</td>\n",
              "    </tr>\n",
              "    <tr>\n",
              "      <th>7</th>\n",
              "      <td>6.000000</td>\n",
              "      <td>7</td>\n",
              "    </tr>\n",
              "    <tr>\n",
              "      <th>15</th>\n",
              "      <td>7.502201</td>\n",
              "      <td>15</td>\n",
              "    </tr>\n",
              "  </tbody>\n",
              "</table>\n",
              "</div>"
            ],
            "text/plain": [
              "          recommendation score  anime_id\n",
              "anime_id                                \n",
              "1                     8.438784         1\n",
              "5                     8.150061         5\n",
              "6                     8.259090         6\n",
              "7                     6.000000         7\n",
              "15                    7.502201        15"
            ]
          },
          "metadata": {
            "tags": []
          },
          "execution_count": 43
        }
      ]
    },
    {
      "cell_type": "code",
      "metadata": {
        "id": "J7lLJeTZwazb",
        "outputId": "dc6cc096-6d86-4a28-afea-79d6496eb6c8"
      },
      "source": [
        "recommendation_df = recommendation_df.sort_values(by='recommendation score', ascending=False)\n",
        "recommendation_df.head(10)"
      ],
      "execution_count": null,
      "outputs": [
        {
          "output_type": "execute_result",
          "data": {
            "text/html": [
              "<div>\n",
              "<style scoped>\n",
              "    .dataframe tbody tr th:only-of-type {\n",
              "        vertical-align: middle;\n",
              "    }\n",
              "\n",
              "    .dataframe tbody tr th {\n",
              "        vertical-align: top;\n",
              "    }\n",
              "\n",
              "    .dataframe thead th {\n",
              "        text-align: right;\n",
              "    }\n",
              "</style>\n",
              "<table border=\"1\" class=\"dataframe\">\n",
              "  <thead>\n",
              "    <tr style=\"text-align: right;\">\n",
              "      <th></th>\n",
              "      <th>recommendation score</th>\n",
              "      <th>anime_id</th>\n",
              "    </tr>\n",
              "    <tr>\n",
              "      <th>anime_id</th>\n",
              "      <th></th>\n",
              "      <th></th>\n",
              "    </tr>\n",
              "  </thead>\n",
              "  <tbody>\n",
              "    <tr>\n",
              "      <th>11441</th>\n",
              "      <td>10.000000</td>\n",
              "      <td>11441</td>\n",
              "    </tr>\n",
              "    <tr>\n",
              "      <th>1639</th>\n",
              "      <td>10.000000</td>\n",
              "      <td>1639</td>\n",
              "    </tr>\n",
              "    <tr>\n",
              "      <th>708</th>\n",
              "      <td>10.000000</td>\n",
              "      <td>708</td>\n",
              "    </tr>\n",
              "    <tr>\n",
              "      <th>864</th>\n",
              "      <td>10.000000</td>\n",
              "      <td>864</td>\n",
              "    </tr>\n",
              "    <tr>\n",
              "      <th>28851</th>\n",
              "      <td>10.000000</td>\n",
              "      <td>28851</td>\n",
              "    </tr>\n",
              "    <tr>\n",
              "      <th>46</th>\n",
              "      <td>10.000000</td>\n",
              "      <td>46</td>\n",
              "    </tr>\n",
              "    <tr>\n",
              "      <th>2294</th>\n",
              "      <td>10.000000</td>\n",
              "      <td>2294</td>\n",
              "    </tr>\n",
              "    <tr>\n",
              "      <th>2269</th>\n",
              "      <td>10.000000</td>\n",
              "      <td>2269</td>\n",
              "    </tr>\n",
              "    <tr>\n",
              "      <th>32792</th>\n",
              "      <td>10.000000</td>\n",
              "      <td>32792</td>\n",
              "    </tr>\n",
              "    <tr>\n",
              "      <th>32281</th>\n",
              "      <td>9.801588</td>\n",
              "      <td>32281</td>\n",
              "    </tr>\n",
              "  </tbody>\n",
              "</table>\n",
              "</div>"
            ],
            "text/plain": [
              "          recommendation score  anime_id\n",
              "anime_id                                \n",
              "11441                10.000000     11441\n",
              "1639                 10.000000      1639\n",
              "708                  10.000000       708\n",
              "864                  10.000000       864\n",
              "28851                10.000000     28851\n",
              "46                   10.000000        46\n",
              "2294                 10.000000      2294\n",
              "2269                 10.000000      2269\n",
              "32792                10.000000     32792\n",
              "32281                 9.801588     32281"
            ]
          },
          "metadata": {
            "tags": []
          },
          "execution_count": 44
        }
      ]
    },
    {
      "cell_type": "code",
      "metadata": {
        "id": "CtqtawAMwazc",
        "outputId": "becd927c-cdf6-4791-9b8d-b774077a5930"
      },
      "source": [
        "anime_df.loc[anime_df['anime_id'].isin(recommendation_df.head(20)['anime_id'].tolist())]"
      ],
      "execution_count": null,
      "outputs": [
        {
          "output_type": "execute_result",
          "data": {
            "text/html": [
              "<div>\n",
              "<style scoped>\n",
              "    .dataframe tbody tr th:only-of-type {\n",
              "        vertical-align: middle;\n",
              "    }\n",
              "\n",
              "    .dataframe tbody tr th {\n",
              "        vertical-align: top;\n",
              "    }\n",
              "\n",
              "    .dataframe thead th {\n",
              "        text-align: right;\n",
              "    }\n",
              "</style>\n",
              "<table border=\"1\" class=\"dataframe\">\n",
              "  <thead>\n",
              "    <tr style=\"text-align: right;\">\n",
              "      <th></th>\n",
              "      <th>anime_id</th>\n",
              "      <th>name</th>\n",
              "      <th>rating</th>\n",
              "    </tr>\n",
              "  </thead>\n",
              "  <tbody>\n",
              "    <tr>\n",
              "      <th>0</th>\n",
              "      <td>32281</td>\n",
              "      <td>Kimi no Na wa.</td>\n",
              "      <td>9.37</td>\n",
              "    </tr>\n",
              "    <tr>\n",
              "      <th>1</th>\n",
              "      <td>5114</td>\n",
              "      <td>Fullmetal Alchemist: Brotherhood</td>\n",
              "      <td>9.26</td>\n",
              "    </tr>\n",
              "    <tr>\n",
              "      <th>2</th>\n",
              "      <td>28977</td>\n",
              "      <td>Gintama°</td>\n",
              "      <td>9.25</td>\n",
              "    </tr>\n",
              "    <tr>\n",
              "      <th>3</th>\n",
              "      <td>9253</td>\n",
              "      <td>Steins;Gate</td>\n",
              "      <td>9.17</td>\n",
              "    </tr>\n",
              "    <tr>\n",
              "      <th>8</th>\n",
              "      <td>15335</td>\n",
              "      <td>Gintama Movie: Kanketsu-hen - Yorozuya yo Eien...</td>\n",
              "      <td>9.10</td>\n",
              "    </tr>\n",
              "    <tr>\n",
              "      <th>9</th>\n",
              "      <td>15417</td>\n",
              "      <td>Gintama&amp;#039;: Enchousen</td>\n",
              "      <td>9.11</td>\n",
              "    </tr>\n",
              "    <tr>\n",
              "      <th>10</th>\n",
              "      <td>4181</td>\n",
              "      <td>Clannad: After Story</td>\n",
              "      <td>9.06</td>\n",
              "    </tr>\n",
              "    <tr>\n",
              "      <th>11</th>\n",
              "      <td>28851</td>\n",
              "      <td>Koe no Katachi</td>\n",
              "      <td>9.05</td>\n",
              "    </tr>\n",
              "    <tr>\n",
              "      <th>37</th>\n",
              "      <td>31757</td>\n",
              "      <td>Kizumonogatari II: Nekketsu-hen</td>\n",
              "      <td>8.73</td>\n",
              "    </tr>\n",
              "    <tr>\n",
              "      <th>38</th>\n",
              "      <td>19</td>\n",
              "      <td>Monster</td>\n",
              "      <td>8.72</td>\n",
              "    </tr>\n",
              "    <tr>\n",
              "      <th>154</th>\n",
              "      <td>6336</td>\n",
              "      <td>Mobile Suit Gundam Unicorn</td>\n",
              "      <td>8.40</td>\n",
              "    </tr>\n",
              "    <tr>\n",
              "      <th>183</th>\n",
              "      <td>9863</td>\n",
              "      <td>SKET Dance</td>\n",
              "      <td>8.36</td>\n",
              "    </tr>\n",
              "    <tr>\n",
              "      <th>1174</th>\n",
              "      <td>46</td>\n",
              "      <td>Rurouni Kenshin: Meiji Kenkaku Romantan - Ishi...</td>\n",
              "      <td>7.65</td>\n",
              "    </tr>\n",
              "    <tr>\n",
              "      <th>1322</th>\n",
              "      <td>708</td>\n",
              "      <td>Patapata Hikousen no Bouken</td>\n",
              "      <td>7.59</td>\n",
              "    </tr>\n",
              "    <tr>\n",
              "      <th>1427</th>\n",
              "      <td>32792</td>\n",
              "      <td>Mobile Suit Gundam Unicorn RE:0096</td>\n",
              "      <td>7.56</td>\n",
              "    </tr>\n",
              "    <tr>\n",
              "      <th>1716</th>\n",
              "      <td>2269</td>\n",
              "      <td>Mobile Suit Gundam Seed Special Edition</td>\n",
              "      <td>7.46</td>\n",
              "    </tr>\n",
              "    <tr>\n",
              "      <th>1869</th>\n",
              "      <td>2294</td>\n",
              "      <td>Mobile Suit Gundam Seed Destiny Special Edition</td>\n",
              "      <td>7.42</td>\n",
              "    </tr>\n",
              "    <tr>\n",
              "      <th>2854</th>\n",
              "      <td>11441</td>\n",
              "      <td>Rurouni Kenshin: Meiji Kenkaku Romantan - Shin...</td>\n",
              "      <td>7.15</td>\n",
              "    </tr>\n",
              "    <tr>\n",
              "      <th>5423</th>\n",
              "      <td>864</td>\n",
              "      <td>Mobile Suit Gundam Seed MSV Astray</td>\n",
              "      <td>6.46</td>\n",
              "    </tr>\n",
              "    <tr>\n",
              "      <th>12217</th>\n",
              "      <td>1639</td>\n",
              "      <td>Boku no Pico</td>\n",
              "      <td>5.13</td>\n",
              "    </tr>\n",
              "  </tbody>\n",
              "</table>\n",
              "</div>"
            ],
            "text/plain": [
              "       anime_id                                               name  rating\n",
              "0         32281                                     Kimi no Na wa.    9.37\n",
              "1          5114                   Fullmetal Alchemist: Brotherhood    9.26\n",
              "2         28977                                           Gintama°    9.25\n",
              "3          9253                                        Steins;Gate    9.17\n",
              "8         15335  Gintama Movie: Kanketsu-hen - Yorozuya yo Eien...    9.10\n",
              "9         15417                           Gintama&#039;: Enchousen    9.11\n",
              "10         4181                               Clannad: After Story    9.06\n",
              "11        28851                                     Koe no Katachi    9.05\n",
              "37        31757                    Kizumonogatari II: Nekketsu-hen    8.73\n",
              "38           19                                            Monster    8.72\n",
              "154        6336                         Mobile Suit Gundam Unicorn    8.40\n",
              "183        9863                                         SKET Dance    8.36\n",
              "1174         46  Rurouni Kenshin: Meiji Kenkaku Romantan - Ishi...    7.65\n",
              "1322        708                        Patapata Hikousen no Bouken    7.59\n",
              "1427      32792                 Mobile Suit Gundam Unicorn RE:0096    7.56\n",
              "1716       2269            Mobile Suit Gundam Seed Special Edition    7.46\n",
              "1869       2294    Mobile Suit Gundam Seed Destiny Special Edition    7.42\n",
              "2854      11441  Rurouni Kenshin: Meiji Kenkaku Romantan - Shin...    7.15\n",
              "5423        864                 Mobile Suit Gundam Seed MSV Astray    6.46\n",
              "12217      1639                                       Boku no Pico    5.13"
            ]
          },
          "metadata": {
            "tags": []
          },
          "execution_count": 45
        }
      ]
    },
    {
      "cell_type": "markdown",
      "metadata": {
        "id": "eCaoxGhywazc"
      },
      "source": [
        "\n",
        "\n",
        "\n",
        "\n",
        "\n",
        "\n",
        "\n",
        "### Model Based Approach\n"
      ]
    },
    {
      "cell_type": "code",
      "metadata": {
        "colab": {
          "base_uri": "https://localhost:8080/"
        },
        "id": "39g7apA81iPk",
        "outputId": "495db134-e911-43ed-babb-7e6aa8538995"
      },
      "source": [
        "#installing the surprise library\n",
        "!pip install surprise"
      ],
      "execution_count": null,
      "outputs": [
        {
          "output_type": "stream",
          "text": [
            "Requirement already satisfied: surprise in /usr/local/lib/python3.7/dist-packages (0.1)\n",
            "Requirement already satisfied: scikit-surprise in /usr/local/lib/python3.7/dist-packages (from surprise) (1.1.1)\n",
            "Requirement already satisfied: joblib>=0.11 in /usr/local/lib/python3.7/dist-packages (from scikit-surprise->surprise) (1.0.1)\n",
            "Requirement already satisfied: six>=1.10.0 in /usr/local/lib/python3.7/dist-packages (from scikit-surprise->surprise) (1.15.0)\n",
            "Requirement already satisfied: scipy>=1.0.0 in /usr/local/lib/python3.7/dist-packages (from scikit-surprise->surprise) (1.4.1)\n",
            "Requirement already satisfied: numpy>=1.11.2 in /usr/local/lib/python3.7/dist-packages (from scikit-surprise->surprise) (1.19.5)\n"
          ],
          "name": "stdout"
        }
      ]
    },
    {
      "cell_type": "code",
      "metadata": {
        "id": "x0b4xZ0zwazc"
      },
      "source": [
        "#importing the surprise library\n",
        "from surprise import Reader, Dataset"
      ],
      "execution_count": null,
      "outputs": []
    },
    {
      "cell_type": "code",
      "metadata": {
        "colab": {
          "base_uri": "https://localhost:8080/",
          "height": 402
        },
        "id": "xzn01C8zwazd",
        "outputId": "82168f91-19e5-49e8-921e-1352a6ea7ed6"
      },
      "source": [
        "ratings_df"
      ],
      "execution_count": null,
      "outputs": [
        {
          "output_type": "execute_result",
          "data": {
            "text/html": [
              "<div>\n",
              "<style scoped>\n",
              "    .dataframe tbody tr th:only-of-type {\n",
              "        vertical-align: middle;\n",
              "    }\n",
              "\n",
              "    .dataframe tbody tr th {\n",
              "        vertical-align: top;\n",
              "    }\n",
              "\n",
              "    .dataframe thead th {\n",
              "        text-align: right;\n",
              "    }\n",
              "</style>\n",
              "<table border=\"1\" class=\"dataframe\">\n",
              "  <thead>\n",
              "    <tr style=\"text-align: right;\">\n",
              "      <th></th>\n",
              "      <th>user_id</th>\n",
              "      <th>anime_id</th>\n",
              "      <th>rating</th>\n",
              "    </tr>\n",
              "  </thead>\n",
              "  <tbody>\n",
              "    <tr>\n",
              "      <th>302</th>\n",
              "      <td>5</td>\n",
              "      <td>6</td>\n",
              "      <td>3</td>\n",
              "    </tr>\n",
              "    <tr>\n",
              "      <th>303</th>\n",
              "      <td>5</td>\n",
              "      <td>15</td>\n",
              "      <td>1</td>\n",
              "    </tr>\n",
              "    <tr>\n",
              "      <th>304</th>\n",
              "      <td>5</td>\n",
              "      <td>17</td>\n",
              "      <td>1</td>\n",
              "    </tr>\n",
              "    <tr>\n",
              "      <th>305</th>\n",
              "      <td>5</td>\n",
              "      <td>18</td>\n",
              "      <td>1</td>\n",
              "    </tr>\n",
              "    <tr>\n",
              "      <th>306</th>\n",
              "      <td>5</td>\n",
              "      <td>20</td>\n",
              "      <td>1</td>\n",
              "    </tr>\n",
              "    <tr>\n",
              "      <th>...</th>\n",
              "      <td>...</td>\n",
              "      <td>...</td>\n",
              "      <td>...</td>\n",
              "    </tr>\n",
              "    <tr>\n",
              "      <th>7813325</th>\n",
              "      <td>73507</td>\n",
              "      <td>7817</td>\n",
              "      <td>3</td>\n",
              "    </tr>\n",
              "    <tr>\n",
              "      <th>7813327</th>\n",
              "      <td>73507</td>\n",
              "      <td>8074</td>\n",
              "      <td>5</td>\n",
              "    </tr>\n",
              "    <tr>\n",
              "      <th>7813328</th>\n",
              "      <td>73507</td>\n",
              "      <td>8197</td>\n",
              "      <td>1</td>\n",
              "    </tr>\n",
              "    <tr>\n",
              "      <th>7813332</th>\n",
              "      <td>73507</td>\n",
              "      <td>8440</td>\n",
              "      <td>2</td>\n",
              "    </tr>\n",
              "    <tr>\n",
              "      <th>7813333</th>\n",
              "      <td>73507</td>\n",
              "      <td>8769</td>\n",
              "      <td>3</td>\n",
              "    </tr>\n",
              "  </tbody>\n",
              "</table>\n",
              "<p>2896427 rows × 3 columns</p>\n",
              "</div>"
            ],
            "text/plain": [
              "         user_id  anime_id  rating\n",
              "302            5         6       3\n",
              "303            5        15       1\n",
              "304            5        17       1\n",
              "305            5        18       1\n",
              "306            5        20       1\n",
              "...          ...       ...     ...\n",
              "7813325    73507      7817       3\n",
              "7813327    73507      8074       5\n",
              "7813328    73507      8197       1\n",
              "7813332    73507      8440       2\n",
              "7813333    73507      8769       3\n",
              "\n",
              "[2896427 rows x 3 columns]"
            ]
          },
          "metadata": {
            "tags": []
          },
          "execution_count": 34
        }
      ]
    },
    {
      "cell_type": "code",
      "metadata": {
        "id": "SaOwbL0Wwazd"
      },
      "source": [
        "#Taking the sample of the ratings data\n",
        "ratings_df_sample = ratings_df.sample(n = 5000)"
      ],
      "execution_count": null,
      "outputs": []
    },
    {
      "cell_type": "code",
      "metadata": {
        "colab": {
          "base_uri": "https://localhost:8080/",
          "height": 402
        },
        "id": "hFf2VERhwaze",
        "outputId": "db487820-eecc-4a09-fb05-0531239dd727"
      },
      "source": [
        "ratings_df_sample"
      ],
      "execution_count": null,
      "outputs": [
        {
          "output_type": "execute_result",
          "data": {
            "text/html": [
              "<div>\n",
              "<style scoped>\n",
              "    .dataframe tbody tr th:only-of-type {\n",
              "        vertical-align: middle;\n",
              "    }\n",
              "\n",
              "    .dataframe tbody tr th {\n",
              "        vertical-align: top;\n",
              "    }\n",
              "\n",
              "    .dataframe thead th {\n",
              "        text-align: right;\n",
              "    }\n",
              "</style>\n",
              "<table border=\"1\" class=\"dataframe\">\n",
              "  <thead>\n",
              "    <tr style=\"text-align: right;\">\n",
              "      <th></th>\n",
              "      <th>user_id</th>\n",
              "      <th>anime_id</th>\n",
              "      <th>rating</th>\n",
              "    </tr>\n",
              "  </thead>\n",
              "  <tbody>\n",
              "    <tr>\n",
              "      <th>4353340</th>\n",
              "      <td>41135</td>\n",
              "      <td>18247</td>\n",
              "      <td>1</td>\n",
              "    </tr>\n",
              "    <tr>\n",
              "      <th>1447045</th>\n",
              "      <td>13877</td>\n",
              "      <td>11887</td>\n",
              "      <td>5</td>\n",
              "    </tr>\n",
              "    <tr>\n",
              "      <th>3097528</th>\n",
              "      <td>28623</td>\n",
              "      <td>28677</td>\n",
              "      <td>3</td>\n",
              "    </tr>\n",
              "    <tr>\n",
              "      <th>7048913</th>\n",
              "      <td>65836</td>\n",
              "      <td>17833</td>\n",
              "      <td>2</td>\n",
              "    </tr>\n",
              "    <tr>\n",
              "      <th>1349040</th>\n",
              "      <td>12794</td>\n",
              "      <td>33028</td>\n",
              "      <td>4</td>\n",
              "    </tr>\n",
              "    <tr>\n",
              "      <th>...</th>\n",
              "      <td>...</td>\n",
              "      <td>...</td>\n",
              "      <td>...</td>\n",
              "    </tr>\n",
              "    <tr>\n",
              "      <th>6270505</th>\n",
              "      <td>58457</td>\n",
              "      <td>5681</td>\n",
              "      <td>4</td>\n",
              "    </tr>\n",
              "    <tr>\n",
              "      <th>3394894</th>\n",
              "      <td>31270</td>\n",
              "      <td>20</td>\n",
              "      <td>1</td>\n",
              "    </tr>\n",
              "    <tr>\n",
              "      <th>3252313</th>\n",
              "      <td>30026</td>\n",
              "      <td>10793</td>\n",
              "      <td>5</td>\n",
              "    </tr>\n",
              "    <tr>\n",
              "      <th>106919</th>\n",
              "      <td>1103</td>\n",
              "      <td>20689</td>\n",
              "      <td>1</td>\n",
              "    </tr>\n",
              "    <tr>\n",
              "      <th>5867288</th>\n",
              "      <td>54818</td>\n",
              "      <td>3652</td>\n",
              "      <td>3</td>\n",
              "    </tr>\n",
              "  </tbody>\n",
              "</table>\n",
              "<p>5000 rows × 3 columns</p>\n",
              "</div>"
            ],
            "text/plain": [
              "         user_id  anime_id  rating\n",
              "4353340    41135     18247       1\n",
              "1447045    13877     11887       5\n",
              "3097528    28623     28677       3\n",
              "7048913    65836     17833       2\n",
              "1349040    12794     33028       4\n",
              "...          ...       ...     ...\n",
              "6270505    58457      5681       4\n",
              "3394894    31270        20       1\n",
              "3252313    30026     10793       5\n",
              "106919      1103     20689       1\n",
              "5867288    54818      3652       3\n",
              "\n",
              "[5000 rows x 3 columns]"
            ]
          },
          "metadata": {
            "tags": []
          },
          "execution_count": 36
        }
      ]
    },
    {
      "cell_type": "code",
      "metadata": {
        "colab": {
          "base_uri": "https://localhost:8080/"
        },
        "id": "lUYytVF2DoKD",
        "outputId": "bab85f08-1f92-4d0b-e893-8fc55a2fa7ee"
      },
      "source": [
        "ratings_df_sample.dtypes"
      ],
      "execution_count": null,
      "outputs": [
        {
          "output_type": "execute_result",
          "data": {
            "text/plain": [
              "user_id     int32\n",
              "anime_id    int32\n",
              "rating      int32\n",
              "dtype: object"
            ]
          },
          "metadata": {
            "tags": []
          },
          "execution_count": 37
        }
      ]
    },
    {
      "cell_type": "code",
      "metadata": {
        "id": "Jj6vSEN_waze"
      },
      "source": [
        "#setting the rating scale based on which surprise library will read the ratings\n",
        "reader = Reader(rating_scale=(1, 5))"
      ],
      "execution_count": null,
      "outputs": []
    },
    {
      "cell_type": "code",
      "metadata": {
        "id": "PuSplRGVwaze"
      },
      "source": [
        "data = Dataset.load_from_df(ratings_df_sample[['user_id', 'anime_id', 'rating']], reader)"
      ],
      "execution_count": null,
      "outputs": []
    },
    {
      "cell_type": "code",
      "metadata": {
        "id": "5fWGW0XFwaze"
      },
      "source": [
        "from sklearn.model_selection import KFold"
      ],
      "execution_count": null,
      "outputs": []
    },
    {
      "cell_type": "code",
      "metadata": {
        "colab": {
          "base_uri": "https://localhost:8080/"
        },
        "id": "nehoABBawazf",
        "outputId": "b37516ab-0525-4517-d1b1-8d2434e9de70"
      },
      "source": [
        "#dividing the data into folds \n",
        "data_kfolds = KFold(n_splits=5)\n",
        "data_kfolds.get_n_splits(data)"
      ],
      "execution_count": null,
      "outputs": [
        {
          "output_type": "execute_result",
          "data": {
            "text/plain": [
              "5"
            ]
          },
          "metadata": {
            "tags": []
          },
          "execution_count": 41
        }
      ]
    },
    {
      "cell_type": "code",
      "metadata": {
        "id": "pnpAsMZtwazf"
      },
      "source": [
        "#importing the required models from surprise\n",
        "from surprise import SVD\n",
        "from surprise import NMF\n",
        "from surprise import KNNBasic\n",
        "from surprise.model_selection import cross_validate"
      ],
      "execution_count": null,
      "outputs": []
    },
    {
      "cell_type": "code",
      "metadata": {
        "colab": {
          "base_uri": "https://localhost:8080/"
        },
        "id": "h3auYbNXwazf",
        "outputId": "b75b3b51-7222-471d-8edc-8accc41b0ce4"
      },
      "source": [
        "#SVD model on anime dataset\n",
        "algo = SVD()\n",
        "cross_validate(algo, data, measures=['RMSE'])"
      ],
      "execution_count": null,
      "outputs": [
        {
          "output_type": "execute_result",
          "data": {
            "text/plain": [
              "{'fit_time': (0.30190134048461914,\n",
              "  0.2888014316558838,\n",
              "  0.288593053817749,\n",
              "  0.29541611671447754,\n",
              "  0.29166531562805176),\n",
              " 'test_rmse': array([1.17185077, 1.17280163, 1.19718909, 1.17346375, 1.16647576]),\n",
              " 'test_time': (0.007628679275512695,\n",
              "  0.007535219192504883,\n",
              "  0.010761737823486328,\n",
              "  0.0078122615814208984,\n",
              "  0.007178544998168945)}"
            ]
          },
          "metadata": {
            "tags": []
          },
          "execution_count": 43
        }
      ]
    },
    {
      "cell_type": "code",
      "metadata": {
        "id": "L3sby_Yiwazf",
        "colab": {
          "base_uri": "https://localhost:8080/"
        },
        "outputId": "4ae1c007-5674-4eae-8ad2-9750c675fa1a"
      },
      "source": [
        "#NMF model\n",
        "algo_nmf = NMF()\n",
        "cross_validate(algo_nmf, data, measures=['RMSE'])"
      ],
      "execution_count": null,
      "outputs": [
        {
          "output_type": "execute_result",
          "data": {
            "text/plain": [
              "{'fit_time': (0.715430498123169,\n",
              "  0.7151010036468506,\n",
              "  0.7221238613128662,\n",
              "  0.7319111824035645,\n",
              "  0.7120246887207031),\n",
              " 'test_rmse': array([1.30101899, 1.29533914, 1.25096118, 1.29277511, 1.2749393 ]),\n",
              " 'test_time': (0.00867605209350586,\n",
              "  0.008176803588867188,\n",
              "  0.00693202018737793,\n",
              "  0.0072329044342041016,\n",
              "  0.0077037811279296875)}"
            ]
          },
          "metadata": {
            "tags": []
          },
          "execution_count": 44
        }
      ]
    },
    {
      "cell_type": "code",
      "metadata": {
        "id": "zy_XEvirwazf",
        "colab": {
          "base_uri": "https://localhost:8080/"
        },
        "outputId": "e5cf0efd-4501-4848-88a5-cc8fb6ef766c"
      },
      "source": [
        "#KNNBasic model\n",
        "algo_knn = KNNBasic()\n",
        "cross_validate(algo_knn, data, measures=['RMSE'])"
      ],
      "execution_count": null,
      "outputs": [
        {
          "output_type": "stream",
          "text": [
            "Computing the msd similarity matrix...\n",
            "Done computing similarity matrix.\n",
            "Computing the msd similarity matrix...\n",
            "Done computing similarity matrix.\n",
            "Computing the msd similarity matrix...\n",
            "Done computing similarity matrix.\n",
            "Computing the msd similarity matrix...\n",
            "Done computing similarity matrix.\n",
            "Computing the msd similarity matrix...\n",
            "Done computing similarity matrix.\n"
          ],
          "name": "stdout"
        },
        {
          "output_type": "execute_result",
          "data": {
            "text/plain": [
              "{'fit_time': (0.3378603458404541,\n",
              "  0.30477309226989746,\n",
              "  0.31087207794189453,\n",
              "  0.455716609954834,\n",
              "  0.29841184616088867),\n",
              " 'test_rmse': array([1.19799833, 1.18269195, 1.22387459, 1.21480132, 1.21830251]),\n",
              " 'test_time': (0.012763261795043945,\n",
              "  0.01077580451965332,\n",
              "  0.011993885040283203,\n",
              "  0.012804746627807617,\n",
              "  0.011966228485107422)}"
            ]
          },
          "metadata": {
            "tags": []
          },
          "execution_count": 45
        }
      ]
    },
    {
      "cell_type": "code",
      "metadata": {
        "id": "JY6z1tRZwazg"
      },
      "source": [
        "from collections import defaultdict\n",
        "\n",
        "#The function to return the Top n predictions\n",
        "def get_top_n(predictions, n=20):\n",
        "  \n",
        "    # First map the predictions to each user.\n",
        "    top_n = defaultdict(list)\n",
        "    for uid, iid, true_r, est, _ in predictions:\n",
        "        top_n[uid].append((iid, est))\n",
        "    # Then sort the predictions for each user and retrieve the k highest ones.\n",
        "    for uid, user_ratings in top_n.items():\n",
        "        user_ratings.sort(key=lambda x: x[1], reverse=True)\n",
        "        top_n[uid] = user_ratings[:n]\n",
        "\n",
        "    return top_n"
      ],
      "execution_count": null,
      "outputs": []
    },
    {
      "cell_type": "code",
      "metadata": {
        "colab": {
          "base_uri": "https://localhost:8080/"
        },
        "id": "zsE1inLIwazg",
        "outputId": "230a2f94-236f-48f4-bd94-688afb1653d5"
      },
      "source": [
        "#training the model\n",
        "trainset = data.build_full_trainset()\n",
        "algo = SVD()\n",
        "algo.fit(trainset)"
      ],
      "execution_count": null,
      "outputs": [
        {
          "output_type": "execute_result",
          "data": {
            "text/plain": [
              "<surprise.prediction_algorithms.matrix_factorization.SVD at 0x7f420d315090>"
            ]
          },
          "metadata": {
            "tags": []
          },
          "execution_count": 49
        }
      ]
    },
    {
      "cell_type": "code",
      "metadata": {
        "id": "Vuh2VcBLwazh"
      },
      "source": [
        "# Testing on the values not present in the trainset\n",
        "testset = trainset.build_anti_testset()\n",
        "predictions = algo.test(testset)"
      ],
      "execution_count": null,
      "outputs": []
    },
    {
      "cell_type": "code",
      "metadata": {
        "id": "HVL5BRCIwazh"
      },
      "source": [
        "#creating an empty dataframe in which predictions will be stored\n",
        "prediction_df = pd.DataFrame()"
      ],
      "execution_count": null,
      "outputs": []
    },
    {
      "cell_type": "code",
      "metadata": {
        "id": "4mAb9QCQwazh"
      },
      "source": [
        "user_ids = []\n",
        "anime_ids = []"
      ],
      "execution_count": null,
      "outputs": []
    },
    {
      "cell_type": "code",
      "metadata": {
        "id": "bdtMM7v2wazh"
      },
      "source": [
        "top_n = get_top_n(predictions, n=20)\n",
        "\n",
        "# # Print the recommended items for each user\n",
        "for uid, user_ratings in top_n.items():\n",
        "#     print(uid, [iid for (iid, _) in user_ratings])\n",
        "    user_ids.append(uid)\n",
        "    anime_ids.append([iid for (iid, _) in user_ratings])"
      ],
      "execution_count": null,
      "outputs": []
    },
    {
      "cell_type": "code",
      "metadata": {
        "id": "lTe1VnnZwazh"
      },
      "source": [
        "#Appending the user_ids and anime_ids as a column in the dataframe\n",
        "prediction_df['user_id'] = user_ids\n",
        "prediction_df['predictions'] = anime_ids"
      ],
      "execution_count": null,
      "outputs": []
    },
    {
      "cell_type": "code",
      "metadata": {
        "colab": {
          "base_uri": "https://localhost:8080/",
          "height": 402
        },
        "id": "4NKAIxZIwazi",
        "outputId": "3017eabc-779a-4576-9120-21d12785e943"
      },
      "source": [
        "prediction_df.sort_values(by = 'user_id')"
      ],
      "execution_count": null,
      "outputs": [
        {
          "output_type": "execute_result",
          "data": {
            "text/html": [
              "<div>\n",
              "<style scoped>\n",
              "    .dataframe tbody tr th:only-of-type {\n",
              "        vertical-align: middle;\n",
              "    }\n",
              "\n",
              "    .dataframe tbody tr th {\n",
              "        vertical-align: top;\n",
              "    }\n",
              "\n",
              "    .dataframe thead th {\n",
              "        text-align: right;\n",
              "    }\n",
              "</style>\n",
              "<table border=\"1\" class=\"dataframe\">\n",
              "  <thead>\n",
              "    <tr style=\"text-align: right;\">\n",
              "      <th></th>\n",
              "      <th>user_id</th>\n",
              "      <th>predictions</th>\n",
              "    </tr>\n",
              "  </thead>\n",
              "  <tbody>\n",
              "    <tr>\n",
              "      <th>1360</th>\n",
              "      <td>7</td>\n",
              "      <td>[199, 431, 6880, 9253, 16498, 205, 6547, 5114,...</td>\n",
              "    </tr>\n",
              "    <tr>\n",
              "      <th>2249</th>\n",
              "      <td>17</td>\n",
              "      <td>[31043, 431, 199, 16067, 164, 2167, 2001, 1981...</td>\n",
              "    </tr>\n",
              "    <tr>\n",
              "      <th>3240</th>\n",
              "      <td>43</td>\n",
              "      <td>[199, 2167, 6746, 4059, 21939, 9253, 31043, 12...</td>\n",
              "    </tr>\n",
              "    <tr>\n",
              "      <th>2940</th>\n",
              "      <td>46</td>\n",
              "      <td>[199, 431, 16498, 2001, 6547, 4059, 164, 2904,...</td>\n",
              "    </tr>\n",
              "    <tr>\n",
              "      <th>3250</th>\n",
              "      <td>123</td>\n",
              "      <td>[6547, 199, 431, 164, 5114, 12189, 9253, 16498...</td>\n",
              "    </tr>\n",
              "    <tr>\n",
              "      <th>...</th>\n",
              "      <td>...</td>\n",
              "      <td>...</td>\n",
              "    </tr>\n",
              "    <tr>\n",
              "      <th>3565</th>\n",
              "      <td>73422</td>\n",
              "      <td>[6547, 19815, 31043, 431, 2904, 199, 31240, 50...</td>\n",
              "    </tr>\n",
              "    <tr>\n",
              "      <th>1245</th>\n",
              "      <td>73457</td>\n",
              "      <td>[6547, 2904, 431, 164, 16498, 19815, 22297, 20...</td>\n",
              "    </tr>\n",
              "    <tr>\n",
              "      <th>1683</th>\n",
              "      <td>73499</td>\n",
              "      <td>[2904, 6547, 9253, 199, 431, 31043, 164, 16498...</td>\n",
              "    </tr>\n",
              "    <tr>\n",
              "      <th>1610</th>\n",
              "      <td>73502</td>\n",
              "      <td>[6547, 2904, 199, 431, 164, 11597, 9253, 6880,...</td>\n",
              "    </tr>\n",
              "    <tr>\n",
              "      <th>2239</th>\n",
              "      <td>73503</td>\n",
              "      <td>[431, 6547, 19815, 199, 16498, 6880, 2904, 222...</td>\n",
              "    </tr>\n",
              "  </tbody>\n",
              "</table>\n",
              "<p>3636 rows × 2 columns</p>\n",
              "</div>"
            ],
            "text/plain": [
              "      user_id                                        predictions\n",
              "1360        7  [199, 431, 6880, 9253, 16498, 205, 6547, 5114,...\n",
              "2249       17  [31043, 431, 199, 16067, 164, 2167, 2001, 1981...\n",
              "3240       43  [199, 2167, 6746, 4059, 21939, 9253, 31043, 12...\n",
              "2940       46  [199, 431, 16498, 2001, 6547, 4059, 164, 2904,...\n",
              "3250      123  [6547, 199, 431, 164, 5114, 12189, 9253, 16498...\n",
              "...       ...                                                ...\n",
              "3565    73422  [6547, 19815, 31043, 431, 2904, 199, 31240, 50...\n",
              "1245    73457  [6547, 2904, 431, 164, 16498, 19815, 22297, 20...\n",
              "1683    73499  [2904, 6547, 9253, 199, 431, 31043, 164, 16498...\n",
              "1610    73502  [6547, 2904, 199, 431, 164, 11597, 9253, 6880,...\n",
              "2239    73503  [431, 6547, 19815, 199, 16498, 6880, 2904, 222...\n",
              "\n",
              "[3636 rows x 2 columns]"
            ]
          },
          "metadata": {
            "tags": []
          },
          "execution_count": 55
        }
      ]
    },
    {
      "cell_type": "code",
      "metadata": {
        "id": "UiEYXtY9wazi"
      },
      "source": [
        "prediction_user = prediction_df[prediction_df['user_id'] == 123]"
      ],
      "execution_count": null,
      "outputs": []
    },
    {
      "cell_type": "code",
      "metadata": {
        "colab": {
          "base_uri": "https://localhost:8080/",
          "height": 77
        },
        "id": "WsMnnzxYwazi",
        "outputId": "5a7af745-1f37-495e-9730-4bd4460525be"
      },
      "source": [
        "prediction_user"
      ],
      "execution_count": null,
      "outputs": [
        {
          "output_type": "execute_result",
          "data": {
            "text/html": [
              "<div>\n",
              "<style scoped>\n",
              "    .dataframe tbody tr th:only-of-type {\n",
              "        vertical-align: middle;\n",
              "    }\n",
              "\n",
              "    .dataframe tbody tr th {\n",
              "        vertical-align: top;\n",
              "    }\n",
              "\n",
              "    .dataframe thead th {\n",
              "        text-align: right;\n",
              "    }\n",
              "</style>\n",
              "<table border=\"1\" class=\"dataframe\">\n",
              "  <thead>\n",
              "    <tr style=\"text-align: right;\">\n",
              "      <th></th>\n",
              "      <th>user_id</th>\n",
              "      <th>predictions</th>\n",
              "    </tr>\n",
              "  </thead>\n",
              "  <tbody>\n",
              "    <tr>\n",
              "      <th>3250</th>\n",
              "      <td>123</td>\n",
              "      <td>[6547, 199, 431, 164, 5114, 12189, 9253, 16498...</td>\n",
              "    </tr>\n",
              "  </tbody>\n",
              "</table>\n",
              "</div>"
            ],
            "text/plain": [
              "      user_id                                        predictions\n",
              "3250      123  [6547, 199, 431, 164, 5114, 12189, 9253, 16498..."
            ]
          },
          "metadata": {
            "tags": []
          },
          "execution_count": 57
        }
      ]
    },
    {
      "cell_type": "code",
      "metadata": {
        "id": "xvj5tRuJwazi"
      },
      "source": [
        "recommendations_list = prediction_user.at[3250,'predictions']"
      ],
      "execution_count": null,
      "outputs": []
    },
    {
      "cell_type": "code",
      "metadata": {
        "colab": {
          "base_uri": "https://localhost:8080/"
        },
        "id": "DVFYcBG_wazi",
        "outputId": "3d733c36-f241-4b2f-a4b9-2e2e023f49b9"
      },
      "source": [
        "type(recommendations_list)"
      ],
      "execution_count": null,
      "outputs": [
        {
          "output_type": "execute_result",
          "data": {
            "text/plain": [
              "list"
            ]
          },
          "metadata": {
            "tags": []
          },
          "execution_count": 59
        }
      ]
    },
    {
      "cell_type": "code",
      "metadata": {
        "id": "TEXGa6JPwazj"
      },
      "source": [
        "recommendation_df = pd.DataFrame()"
      ],
      "execution_count": null,
      "outputs": []
    },
    {
      "cell_type": "code",
      "metadata": {
        "id": "lrrra6mCwazj"
      },
      "source": [
        "recommendation_df['anime_id'] = recommendations_list"
      ],
      "execution_count": null,
      "outputs": []
    },
    {
      "cell_type": "code",
      "metadata": {
        "id": "Vzqku35swazj"
      },
      "source": [
        "anime_name = anime_df[anime_df['anime_id'].isin(recommendation_df['anime_id'].tolist())]"
      ],
      "execution_count": null,
      "outputs": []
    },
    {
      "cell_type": "code",
      "metadata": {
        "id": "xCF6g6wdwazj"
      },
      "source": [
        "recommendation_for_user = pd.merge(anime_name,recommendation_df,on = 'anime_id') "
      ],
      "execution_count": null,
      "outputs": []
    },
    {
      "cell_type": "code",
      "metadata": {
        "colab": {
          "base_uri": "https://localhost:8080/",
          "height": 639
        },
        "id": "jUHa-jQ8wazj",
        "outputId": "8bf728ae-c319-4a90-e5b5-0d138c338f18"
      },
      "source": [
        "#recommendations generated\n",
        "recommendation_for_user"
      ],
      "execution_count": null,
      "outputs": [
        {
          "output_type": "execute_result",
          "data": {
            "text/html": [
              "<div>\n",
              "<style scoped>\n",
              "    .dataframe tbody tr th:only-of-type {\n",
              "        vertical-align: middle;\n",
              "    }\n",
              "\n",
              "    .dataframe tbody tr th {\n",
              "        vertical-align: top;\n",
              "    }\n",
              "\n",
              "    .dataframe thead th {\n",
              "        text-align: right;\n",
              "    }\n",
              "</style>\n",
              "<table border=\"1\" class=\"dataframe\">\n",
              "  <thead>\n",
              "    <tr style=\"text-align: right;\">\n",
              "      <th></th>\n",
              "      <th>anime_id</th>\n",
              "      <th>name</th>\n",
              "      <th>rating</th>\n",
              "    </tr>\n",
              "  </thead>\n",
              "  <tbody>\n",
              "    <tr>\n",
              "      <th>0</th>\n",
              "      <td>5114</td>\n",
              "      <td>Fullmetal Alchemist: Brotherhood</td>\n",
              "      <td>9.26</td>\n",
              "    </tr>\n",
              "    <tr>\n",
              "      <th>1</th>\n",
              "      <td>9253</td>\n",
              "      <td>Steins;Gate</td>\n",
              "      <td>9.17</td>\n",
              "    </tr>\n",
              "    <tr>\n",
              "      <th>2</th>\n",
              "      <td>11061</td>\n",
              "      <td>Hunter x Hunter (2011)</td>\n",
              "      <td>9.13</td>\n",
              "    </tr>\n",
              "    <tr>\n",
              "      <th>3</th>\n",
              "      <td>4181</td>\n",
              "      <td>Clannad: After Story</td>\n",
              "      <td>9.06</td>\n",
              "    </tr>\n",
              "    <tr>\n",
              "      <th>4</th>\n",
              "      <td>2904</td>\n",
              "      <td>Code Geass: Hangyaku no Lelouch R2</td>\n",
              "      <td>8.98</td>\n",
              "    </tr>\n",
              "    <tr>\n",
              "      <th>5</th>\n",
              "      <td>199</td>\n",
              "      <td>Sen to Chihiro no Kamikakushi</td>\n",
              "      <td>8.93</td>\n",
              "    </tr>\n",
              "    <tr>\n",
              "      <th>6</th>\n",
              "      <td>1575</td>\n",
              "      <td>Code Geass: Hangyaku no Lelouch</td>\n",
              "      <td>8.83</td>\n",
              "    </tr>\n",
              "    <tr>\n",
              "      <th>7</th>\n",
              "      <td>164</td>\n",
              "      <td>Mononoke Hime</td>\n",
              "      <td>8.81</td>\n",
              "    </tr>\n",
              "    <tr>\n",
              "      <th>8</th>\n",
              "      <td>457</td>\n",
              "      <td>Mushishi</td>\n",
              "      <td>8.78</td>\n",
              "    </tr>\n",
              "    <tr>\n",
              "      <th>9</th>\n",
              "      <td>431</td>\n",
              "      <td>Howl no Ugoku Shiro</td>\n",
              "      <td>8.74</td>\n",
              "    </tr>\n",
              "    <tr>\n",
              "      <th>10</th>\n",
              "      <td>11741</td>\n",
              "      <td>Fate/Zero 2nd Season</td>\n",
              "      <td>8.73</td>\n",
              "    </tr>\n",
              "    <tr>\n",
              "      <th>11</th>\n",
              "      <td>31043</td>\n",
              "      <td>Boku dake ga Inai Machi</td>\n",
              "      <td>8.65</td>\n",
              "    </tr>\n",
              "    <tr>\n",
              "      <th>12</th>\n",
              "      <td>16498</td>\n",
              "      <td>Shingeki no Kyojin</td>\n",
              "      <td>8.54</td>\n",
              "    </tr>\n",
              "    <tr>\n",
              "      <th>13</th>\n",
              "      <td>19815</td>\n",
              "      <td>No Game No Life</td>\n",
              "      <td>8.47</td>\n",
              "    </tr>\n",
              "    <tr>\n",
              "      <th>14</th>\n",
              "      <td>6547</td>\n",
              "      <td>Angel Beats!</td>\n",
              "      <td>8.39</td>\n",
              "    </tr>\n",
              "    <tr>\n",
              "      <th>15</th>\n",
              "      <td>5081</td>\n",
              "      <td>Bakemonogatari</td>\n",
              "      <td>8.39</td>\n",
              "    </tr>\n",
              "    <tr>\n",
              "      <th>16</th>\n",
              "      <td>6746</td>\n",
              "      <td>Durarara!!</td>\n",
              "      <td>8.38</td>\n",
              "    </tr>\n",
              "    <tr>\n",
              "      <th>17</th>\n",
              "      <td>2966</td>\n",
              "      <td>Ookami to Koushinryou</td>\n",
              "      <td>8.37</td>\n",
              "    </tr>\n",
              "    <tr>\n",
              "      <th>18</th>\n",
              "      <td>12189</td>\n",
              "      <td>Hyouka</td>\n",
              "      <td>8.17</td>\n",
              "    </tr>\n",
              "    <tr>\n",
              "      <th>19</th>\n",
              "      <td>4059</td>\n",
              "      <td>Clannad: Mou Hitotsu no Sekai, Tomoyo-hen</td>\n",
              "      <td>8.14</td>\n",
              "    </tr>\n",
              "  </tbody>\n",
              "</table>\n",
              "</div>"
            ],
            "text/plain": [
              "    anime_id                                       name  rating\n",
              "0       5114           Fullmetal Alchemist: Brotherhood    9.26\n",
              "1       9253                                Steins;Gate    9.17\n",
              "2      11061                     Hunter x Hunter (2011)    9.13\n",
              "3       4181                       Clannad: After Story    9.06\n",
              "4       2904         Code Geass: Hangyaku no Lelouch R2    8.98\n",
              "5        199              Sen to Chihiro no Kamikakushi    8.93\n",
              "6       1575            Code Geass: Hangyaku no Lelouch    8.83\n",
              "7        164                              Mononoke Hime    8.81\n",
              "8        457                                   Mushishi    8.78\n",
              "9        431                        Howl no Ugoku Shiro    8.74\n",
              "10     11741                       Fate/Zero 2nd Season    8.73\n",
              "11     31043                    Boku dake ga Inai Machi    8.65\n",
              "12     16498                         Shingeki no Kyojin    8.54\n",
              "13     19815                            No Game No Life    8.47\n",
              "14      6547                               Angel Beats!    8.39\n",
              "15      5081                             Bakemonogatari    8.39\n",
              "16      6746                                 Durarara!!    8.38\n",
              "17      2966                      Ookami to Koushinryou    8.37\n",
              "18     12189                                     Hyouka    8.17\n",
              "19      4059  Clannad: Mou Hitotsu no Sekai, Tomoyo-hen    8.14"
            ]
          },
          "metadata": {
            "tags": []
          },
          "execution_count": 64
        }
      ]
    },
    {
      "cell_type": "code",
      "metadata": {
        "id": "CU6mU7yuwazk"
      },
      "source": [
        "actually_watched_by_user = pd.merge(user_anime_name_head,recommendation_for_user,how='inner',on = 'anime_id') "
      ],
      "execution_count": null,
      "outputs": []
    },
    {
      "cell_type": "code",
      "metadata": {
        "colab": {
          "base_uri": "https://localhost:8080/",
          "height": 106
        },
        "id": "9SeEHc2rwazk",
        "outputId": "20de9924-5e2d-4faf-cc98-736ad2033157"
      },
      "source": [
        "actually_watched_by_user"
      ],
      "execution_count": null,
      "outputs": [
        {
          "output_type": "execute_result",
          "data": {
            "text/html": [
              "<div>\n",
              "<style scoped>\n",
              "    .dataframe tbody tr th:only-of-type {\n",
              "        vertical-align: middle;\n",
              "    }\n",
              "\n",
              "    .dataframe tbody tr th {\n",
              "        vertical-align: top;\n",
              "    }\n",
              "\n",
              "    .dataframe thead th {\n",
              "        text-align: right;\n",
              "    }\n",
              "</style>\n",
              "<table border=\"1\" class=\"dataframe\">\n",
              "  <thead>\n",
              "    <tr style=\"text-align: right;\">\n",
              "      <th></th>\n",
              "      <th>user_id</th>\n",
              "      <th>anime_id</th>\n",
              "      <th>rating_x</th>\n",
              "      <th>name_x</th>\n",
              "      <th>rating_y</th>\n",
              "      <th>name_y</th>\n",
              "      <th>rating</th>\n",
              "    </tr>\n",
              "  </thead>\n",
              "  <tbody>\n",
              "    <tr>\n",
              "      <th>0</th>\n",
              "      <td>123</td>\n",
              "      <td>16498</td>\n",
              "      <td>5</td>\n",
              "      <td>Shingeki no Kyojin</td>\n",
              "      <td>8.54</td>\n",
              "      <td>Shingeki no Kyojin</td>\n",
              "      <td>8.54</td>\n",
              "    </tr>\n",
              "    <tr>\n",
              "      <th>1</th>\n",
              "      <td>123</td>\n",
              "      <td>457</td>\n",
              "      <td>5</td>\n",
              "      <td>Mushishi</td>\n",
              "      <td>8.78</td>\n",
              "      <td>Mushishi</td>\n",
              "      <td>8.78</td>\n",
              "    </tr>\n",
              "  </tbody>\n",
              "</table>\n",
              "</div>"
            ],
            "text/plain": [
              "   user_id  anime_id  rating_x  ... rating_y              name_y rating\n",
              "0      123     16498         5  ...     8.54  Shingeki no Kyojin   8.54\n",
              "1      123       457         5  ...     8.78            Mushishi   8.78\n",
              "\n",
              "[2 rows x 7 columns]"
            ]
          },
          "metadata": {
            "tags": []
          },
          "execution_count": 79
        }
      ]
    },
    {
      "cell_type": "code",
      "metadata": {
        "id": "oW4sAA1Uwazl"
      },
      "source": [
        "user=ratings_df[ratings_df['user_id']==123]"
      ],
      "execution_count": null,
      "outputs": []
    },
    {
      "cell_type": "code",
      "metadata": {
        "id": "p6XaQPc9wazl"
      },
      "source": [
        "user = user.sort_values(by='rating',ascending =False)"
      ],
      "execution_count": null,
      "outputs": []
    },
    {
      "cell_type": "code",
      "metadata": {
        "colab": {
          "base_uri": "https://localhost:8080/",
          "height": 639
        },
        "id": "w8LSJIGOwazl",
        "outputId": "e12d7bb5-fa53-45a4-aab8-cde0ccbe5483"
      },
      "source": [
        "user.head(20)"
      ],
      "execution_count": null,
      "outputs": [
        {
          "output_type": "execute_result",
          "data": {
            "text/html": [
              "<div>\n",
              "<style scoped>\n",
              "    .dataframe tbody tr th:only-of-type {\n",
              "        vertical-align: middle;\n",
              "    }\n",
              "\n",
              "    .dataframe tbody tr th {\n",
              "        vertical-align: top;\n",
              "    }\n",
              "\n",
              "    .dataframe thead th {\n",
              "        text-align: right;\n",
              "    }\n",
              "</style>\n",
              "<table border=\"1\" class=\"dataframe\">\n",
              "  <thead>\n",
              "    <tr style=\"text-align: right;\">\n",
              "      <th></th>\n",
              "      <th>user_id</th>\n",
              "      <th>anime_id</th>\n",
              "      <th>rating</th>\n",
              "    </tr>\n",
              "  </thead>\n",
              "  <tbody>\n",
              "    <tr>\n",
              "      <th>9629</th>\n",
              "      <td>123</td>\n",
              "      <td>5300</td>\n",
              "      <td>5</td>\n",
              "    </tr>\n",
              "    <tr>\n",
              "      <th>9880</th>\n",
              "      <td>123</td>\n",
              "      <td>22789</td>\n",
              "      <td>5</td>\n",
              "    </tr>\n",
              "    <tr>\n",
              "      <th>9618</th>\n",
              "      <td>123</td>\n",
              "      <td>4081</td>\n",
              "      <td>5</td>\n",
              "    </tr>\n",
              "    <tr>\n",
              "      <th>9865</th>\n",
              "      <td>123</td>\n",
              "      <td>21939</td>\n",
              "      <td>5</td>\n",
              "    </tr>\n",
              "    <tr>\n",
              "      <th>9854</th>\n",
              "      <td>123</td>\n",
              "      <td>21405</td>\n",
              "      <td>5</td>\n",
              "    </tr>\n",
              "    <tr>\n",
              "      <th>9849</th>\n",
              "      <td>123</td>\n",
              "      <td>21105</td>\n",
              "      <td>5</td>\n",
              "    </tr>\n",
              "    <tr>\n",
              "      <th>9702</th>\n",
              "      <td>123</td>\n",
              "      <td>10379</td>\n",
              "      <td>5</td>\n",
              "    </tr>\n",
              "    <tr>\n",
              "      <th>9840</th>\n",
              "      <td>123</td>\n",
              "      <td>20651</td>\n",
              "      <td>5</td>\n",
              "    </tr>\n",
              "    <tr>\n",
              "      <th>9834</th>\n",
              "      <td>123</td>\n",
              "      <td>19945</td>\n",
              "      <td>5</td>\n",
              "    </tr>\n",
              "    <tr>\n",
              "      <th>9832</th>\n",
              "      <td>123</td>\n",
              "      <td>19775</td>\n",
              "      <td>5</td>\n",
              "    </tr>\n",
              "    <tr>\n",
              "      <th>9826</th>\n",
              "      <td>123</td>\n",
              "      <td>19363</td>\n",
              "      <td>5</td>\n",
              "    </tr>\n",
              "    <tr>\n",
              "      <th>9642</th>\n",
              "      <td>123</td>\n",
              "      <td>5984</td>\n",
              "      <td>5</td>\n",
              "    </tr>\n",
              "    <tr>\n",
              "      <th>9643</th>\n",
              "      <td>123</td>\n",
              "      <td>6114</td>\n",
              "      <td>5</td>\n",
              "    </tr>\n",
              "    <tr>\n",
              "      <th>9820</th>\n",
              "      <td>123</td>\n",
              "      <td>18849</td>\n",
              "      <td>5</td>\n",
              "    </tr>\n",
              "    <tr>\n",
              "      <th>9819</th>\n",
              "      <td>123</td>\n",
              "      <td>18689</td>\n",
              "      <td>5</td>\n",
              "    </tr>\n",
              "    <tr>\n",
              "      <th>9814</th>\n",
              "      <td>123</td>\n",
              "      <td>18411</td>\n",
              "      <td>5</td>\n",
              "    </tr>\n",
              "    <tr>\n",
              "      <th>9806</th>\n",
              "      <td>123</td>\n",
              "      <td>17909</td>\n",
              "      <td>5</td>\n",
              "    </tr>\n",
              "    <tr>\n",
              "      <th>9661</th>\n",
              "      <td>123</td>\n",
              "      <td>7588</td>\n",
              "      <td>5</td>\n",
              "    </tr>\n",
              "    <tr>\n",
              "      <th>9798</th>\n",
              "      <td>123</td>\n",
              "      <td>16918</td>\n",
              "      <td>5</td>\n",
              "    </tr>\n",
              "    <tr>\n",
              "      <th>9786</th>\n",
              "      <td>123</td>\n",
              "      <td>16498</td>\n",
              "      <td>5</td>\n",
              "    </tr>\n",
              "  </tbody>\n",
              "</table>\n",
              "</div>"
            ],
            "text/plain": [
              "      user_id  anime_id  rating\n",
              "9629      123      5300       5\n",
              "9880      123     22789       5\n",
              "9618      123      4081       5\n",
              "9865      123     21939       5\n",
              "9854      123     21405       5\n",
              "9849      123     21105       5\n",
              "9702      123     10379       5\n",
              "9840      123     20651       5\n",
              "9834      123     19945       5\n",
              "9832      123     19775       5\n",
              "9826      123     19363       5\n",
              "9642      123      5984       5\n",
              "9643      123      6114       5\n",
              "9820      123     18849       5\n",
              "9819      123     18689       5\n",
              "9814      123     18411       5\n",
              "9806      123     17909       5\n",
              "9661      123      7588       5\n",
              "9798      123     16918       5\n",
              "9786      123     16498       5"
            ]
          },
          "metadata": {
            "tags": []
          },
          "execution_count": 68
        }
      ]
    },
    {
      "cell_type": "code",
      "metadata": {
        "id": "WzosewJJwazl"
      },
      "source": [
        "user_anime = anime_df[anime_df['anime_id'].isin(user['anime_id'].tolist())]"
      ],
      "execution_count": null,
      "outputs": []
    },
    {
      "cell_type": "code",
      "metadata": {
        "id": "tVRrX-6kwazl"
      },
      "source": [
        "user_anime_name = pd.merge(user,anime_df,on = 'anime_id') "
      ],
      "execution_count": null,
      "outputs": []
    },
    {
      "cell_type": "code",
      "metadata": {
        "id": "KiwFJlV6vC_b"
      },
      "source": [
        "user_anime_name.sort_values(by = 'rating_x' , ascending=False , inplace=True)"
      ],
      "execution_count": null,
      "outputs": []
    },
    {
      "cell_type": "code",
      "metadata": {
        "id": "dHLzzEApwazl"
      },
      "source": [
        "user_anime_name_head= user_anime_name.head(20)"
      ],
      "execution_count": null,
      "outputs": []
    },
    {
      "cell_type": "code",
      "metadata": {
        "id": "X1MmY-xpwazm",
        "colab": {
          "base_uri": "https://localhost:8080/",
          "height": 639
        },
        "outputId": "35f43719-ff6b-473d-832a-88ec80a6299d"
      },
      "source": [
        "user_anime_name_head"
      ],
      "execution_count": null,
      "outputs": [
        {
          "output_type": "execute_result",
          "data": {
            "text/html": [
              "<div>\n",
              "<style scoped>\n",
              "    .dataframe tbody tr th:only-of-type {\n",
              "        vertical-align: middle;\n",
              "    }\n",
              "\n",
              "    .dataframe tbody tr th {\n",
              "        vertical-align: top;\n",
              "    }\n",
              "\n",
              "    .dataframe thead th {\n",
              "        text-align: right;\n",
              "    }\n",
              "</style>\n",
              "<table border=\"1\" class=\"dataframe\">\n",
              "  <thead>\n",
              "    <tr style=\"text-align: right;\">\n",
              "      <th></th>\n",
              "      <th>user_id</th>\n",
              "      <th>anime_id</th>\n",
              "      <th>rating_x</th>\n",
              "      <th>name</th>\n",
              "      <th>rating_y</th>\n",
              "    </tr>\n",
              "  </thead>\n",
              "  <tbody>\n",
              "    <tr>\n",
              "      <th>0</th>\n",
              "      <td>123</td>\n",
              "      <td>5300</td>\n",
              "      <td>5</td>\n",
              "      <td>Zoku Natsume Yuujinchou</td>\n",
              "      <td>8.64</td>\n",
              "    </tr>\n",
              "    <tr>\n",
              "      <th>29</th>\n",
              "      <td>123</td>\n",
              "      <td>24701</td>\n",
              "      <td>5</td>\n",
              "      <td>Mushishi Zoku Shou 2nd Season</td>\n",
              "      <td>8.88</td>\n",
              "    </tr>\n",
              "    <tr>\n",
              "      <th>21</th>\n",
              "      <td>123</td>\n",
              "      <td>13125</td>\n",
              "      <td>5</td>\n",
              "      <td>Shinsekai yori</td>\n",
              "      <td>8.53</td>\n",
              "    </tr>\n",
              "    <tr>\n",
              "      <th>22</th>\n",
              "      <td>123</td>\n",
              "      <td>12883</td>\n",
              "      <td>5</td>\n",
              "      <td>Tsuritama</td>\n",
              "      <td>7.84</td>\n",
              "    </tr>\n",
              "    <tr>\n",
              "      <th>23</th>\n",
              "      <td>123</td>\n",
              "      <td>12431</td>\n",
              "      <td>5</td>\n",
              "      <td>Uchuu Kyoudai</td>\n",
              "      <td>8.59</td>\n",
              "    </tr>\n",
              "    <tr>\n",
              "      <th>24</th>\n",
              "      <td>123</td>\n",
              "      <td>11665</td>\n",
              "      <td>5</td>\n",
              "      <td>Natsume Yuujinchou Shi</td>\n",
              "      <td>8.75</td>\n",
              "    </tr>\n",
              "    <tr>\n",
              "      <th>25</th>\n",
              "      <td>123</td>\n",
              "      <td>11113</td>\n",
              "      <td>5</td>\n",
              "      <td>Usagi Drop Specials</td>\n",
              "      <td>8.07</td>\n",
              "    </tr>\n",
              "    <tr>\n",
              "      <th>26</th>\n",
              "      <td>123</td>\n",
              "      <td>9989</td>\n",
              "      <td>5</td>\n",
              "      <td>Ano Hi Mita Hana no Namae wo Bokutachi wa Mada...</td>\n",
              "      <td>8.62</td>\n",
              "    </tr>\n",
              "    <tr>\n",
              "      <th>27</th>\n",
              "      <td>123</td>\n",
              "      <td>22583</td>\n",
              "      <td>5</td>\n",
              "      <td>Uchuu Kyoudai: Number Zero</td>\n",
              "      <td>7.22</td>\n",
              "    </tr>\n",
              "    <tr>\n",
              "      <th>30</th>\n",
              "      <td>123</td>\n",
              "      <td>30230</td>\n",
              "      <td>5</td>\n",
              "      <td>Diamond no Ace: Second Season</td>\n",
              "      <td>8.50</td>\n",
              "    </tr>\n",
              "    <tr>\n",
              "      <th>19</th>\n",
              "      <td>123</td>\n",
              "      <td>16498</td>\n",
              "      <td>5</td>\n",
              "      <td>Shingeki no Kyojin</td>\n",
              "      <td>8.54</td>\n",
              "    </tr>\n",
              "    <tr>\n",
              "      <th>31</th>\n",
              "      <td>123</td>\n",
              "      <td>24913</td>\n",
              "      <td>5</td>\n",
              "      <td>Bokura wa Minna Kawaisou: Hajimete no</td>\n",
              "      <td>7.76</td>\n",
              "    </tr>\n",
              "    <tr>\n",
              "      <th>32</th>\n",
              "      <td>123</td>\n",
              "      <td>31251</td>\n",
              "      <td>5</td>\n",
              "      <td>Mobile Suit Gundam: Iron-Blooded Orphans</td>\n",
              "      <td>7.96</td>\n",
              "    </tr>\n",
              "    <tr>\n",
              "      <th>33</th>\n",
              "      <td>123</td>\n",
              "      <td>28735</td>\n",
              "      <td>5</td>\n",
              "      <td>Shouwa Genroku Rakugo Shinjuu</td>\n",
              "      <td>8.59</td>\n",
              "    </tr>\n",
              "    <tr>\n",
              "      <th>34</th>\n",
              "      <td>123</td>\n",
              "      <td>28297</td>\n",
              "      <td>5</td>\n",
              "      <td>Ore Monogatari!!</td>\n",
              "      <td>8.11</td>\n",
              "    </tr>\n",
              "    <tr>\n",
              "      <th>35</th>\n",
              "      <td>123</td>\n",
              "      <td>32729</td>\n",
              "      <td>5</td>\n",
              "      <td>Orange</td>\n",
              "      <td>7.78</td>\n",
              "    </tr>\n",
              "    <tr>\n",
              "      <th>36</th>\n",
              "      <td>123</td>\n",
              "      <td>457</td>\n",
              "      <td>5</td>\n",
              "      <td>Mushishi</td>\n",
              "      <td>8.78</td>\n",
              "    </tr>\n",
              "    <tr>\n",
              "      <th>1</th>\n",
              "      <td>123</td>\n",
              "      <td>22789</td>\n",
              "      <td>5</td>\n",
              "      <td>Barakamon</td>\n",
              "      <td>8.50</td>\n",
              "    </tr>\n",
              "    <tr>\n",
              "      <th>20</th>\n",
              "      <td>123</td>\n",
              "      <td>13601</td>\n",
              "      <td>5</td>\n",
              "      <td>Psycho-Pass</td>\n",
              "      <td>8.50</td>\n",
              "    </tr>\n",
              "    <tr>\n",
              "      <th>28</th>\n",
              "      <td>123</td>\n",
              "      <td>10162</td>\n",
              "      <td>5</td>\n",
              "      <td>Usagi Drop</td>\n",
              "      <td>8.56</td>\n",
              "    </tr>\n",
              "  </tbody>\n",
              "</table>\n",
              "</div>"
            ],
            "text/plain": [
              "    user_id  ...  rating_y\n",
              "0       123  ...      8.64\n",
              "29      123  ...      8.88\n",
              "21      123  ...      8.53\n",
              "22      123  ...      7.84\n",
              "23      123  ...      8.59\n",
              "24      123  ...      8.75\n",
              "25      123  ...      8.07\n",
              "26      123  ...      8.62\n",
              "27      123  ...      7.22\n",
              "30      123  ...      8.50\n",
              "19      123  ...      8.54\n",
              "31      123  ...      7.76\n",
              "32      123  ...      7.96\n",
              "33      123  ...      8.59\n",
              "34      123  ...      8.11\n",
              "35      123  ...      7.78\n",
              "36      123  ...      8.78\n",
              "1       123  ...      8.50\n",
              "20      123  ...      8.50\n",
              "28      123  ...      8.56\n",
              "\n",
              "[20 rows x 5 columns]"
            ]
          },
          "metadata": {
            "tags": []
          },
          "execution_count": 76
        }
      ]
    }
  ]
}